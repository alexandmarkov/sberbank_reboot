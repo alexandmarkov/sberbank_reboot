{
  "nbformat": 4,
  "nbformat_minor": 0,
  "metadata": {
    "colab": {
      "name": "Марков А.С. Занятие 1. Введение в Python.ipynb",
      "provenance": [],
      "collapsed_sections": [],
      "include_colab_link": true
    },
    "kernelspec": {
      "name": "python3",
      "display_name": "Python 3"
    }
  },
  "cells": [
    {
      "cell_type": "markdown",
      "metadata": {
        "id": "view-in-github",
        "colab_type": "text"
      },
      "source": [
        "<a href=\"https://colab.research.google.com/github/alexandmarkov/sberbank_reboot/blob/main/%D0%9C%D0%B0%D1%80%D0%BA%D0%BE%D0%B2_%D0%90_%D0%A1_%D0%97%D0%B0%D0%BD%D1%8F%D1%82%D0%B8%D0%B5_1_%D0%92%D0%B2%D0%B5%D0%B4%D0%B5%D0%BD%D0%B8%D0%B5_%D0%B2_Python.ipynb\" target=\"_parent\"><img src=\"https://colab.research.google.com/assets/colab-badge.svg\" alt=\"Open In Colab\"/></a>"
      ]
    },
    {
      "cell_type": "markdown",
      "metadata": {
        "id": "4Wgp1FDn9oeh"
      },
      "source": [
        "## Задание 1\n",
        "\n",
        "Создайте список (list) с элементами от 1 до 10 включительно двумя разными способами:\n",
        "* при помощи list comprehensions\n",
        "* при помощи цикла for"
      ]
    },
    {
      "cell_type": "code",
      "metadata": {
        "colab": {
          "base_uri": "https://localhost:8080/"
        },
        "id": "Trw5fZtq-sKK",
        "outputId": "8a6bffe6-ea42-4022-a58a-63947f0f9f2e"
      },
      "source": [
        "#1 способ\n",
        "lst = [i for i in range(1, 11)]\n",
        "\n",
        "#2 способ\n",
        "lst = []\n",
        "for i in range(1, 11):\n",
        "  lst.append(i)"
      ],
      "execution_count": null,
      "outputs": [
        {
          "output_type": "execute_result",
          "data": {
            "text/plain": [
              "[1, 2, 3, 4, 5, 6, 7, 8, 9, 10]"
            ]
          },
          "metadata": {
            "tags": []
          },
          "execution_count": 199
        }
      ]
    },
    {
      "cell_type": "markdown",
      "metadata": {
        "id": "WFASdcHs-HDU"
      },
      "source": [
        "## Задание 2\n",
        "\n",
        "Создайте список (list) с **четными** элементами из промежутка от 1 до 10 включительно двумя разными способами:\n",
        "* при помощи list comprehensions\n",
        "* при помощи цикла for"
      ]
    },
    {
      "cell_type": "code",
      "metadata": {
        "colab": {
          "base_uri": "https://localhost:8080/"
        },
        "id": "DAB9tzx6lGg_",
        "outputId": "f2d3aa83-ac93-4af5-99af-a3601023399f"
      },
      "source": [
        "#1 способ\n",
        "lst = [i for i in range(1, 11) if i % 2 == 0]\n",
        "\n",
        "#2 способ\n",
        "lst = []\n",
        "for i in range(1, 11):\n",
        "  if i % 2 == 0:\n",
        "    lst.append(i)"
      ],
      "execution_count": null,
      "outputs": [
        {
          "output_type": "execute_result",
          "data": {
            "text/plain": [
              "[2, 4, 6, 8, 10]"
            ]
          },
          "metadata": {
            "tags": []
          },
          "execution_count": 200
        }
      ]
    },
    {
      "cell_type": "markdown",
      "metadata": {
        "id": "ART_Rcf8_D1Q"
      },
      "source": [
        "## Задание 3\n",
        "присвойте переменной **x** следующее значение:\n",
        "$$\n",
        "x=100^{3^{2}}-\\frac{10^{3}}{5^{2}}\n",
        "$$\n",
        "Выведите, чему теперь равна переменная **x**"
      ]
    },
    {
      "cell_type": "code",
      "metadata": {
        "colab": {
          "base_uri": "https://localhost:8080/"
        },
        "id": "60of6x1F-4xb",
        "outputId": "454ced16-ae53-4d4c-9108-0821c9081bdd"
      },
      "source": [
        "#Ваше решение тут\n",
        "import numpy as np\n",
        "x = np.int64((100 ** 3) ** 2 - 10 ** 3 / (5 ** 2))\n",
        "print('{0:.1f}'.format(x))"
      ],
      "execution_count": null,
      "outputs": [
        {
          "output_type": "execute_result",
          "data": {
            "text/plain": [
              "999999999960.0"
            ]
          },
          "metadata": {
            "tags": []
          },
          "execution_count": 196
        }
      ]
    },
    {
      "cell_type": "markdown",
      "metadata": {
        "id": "JUkk796pANdG"
      },
      "source": [
        "## Задание 4\n",
        "\n",
        "Найдите, истинно ли, что 3 в 15 степени больше 3000 при условии, что 3 в 7й степени меньше 7 в 5й."
      ]
    },
    {
      "cell_type": "code",
      "metadata": {
        "colab": {
          "base_uri": "https://localhost:8080/"
        },
        "id": "1d68HG4SAg3t",
        "outputId": "ba45fe1e-5cc1-4523-b338-933e63319edf"
      },
      "source": [
        "#Ваше решение тут\n",
        "print(((3 ** 7) < (7 ** 5)) and ((3 ** 15) > 3000))"
      ],
      "execution_count": null,
      "outputs": [
        {
          "output_type": "stream",
          "text": [
            "True\n"
          ],
          "name": "stdout"
        }
      ]
    },
    {
      "cell_type": "markdown",
      "metadata": {
        "id": "fIJhD6MSA7Sm"
      },
      "source": [
        "## Задание 5\n",
        "Мы принимаем целое число на ввод с клавиатуры (код предоставлен), вывести \"цена выше рынка\", если число выше 1200, \"цена ниже рыночной\", если число меньше 800 и \"все ок\" в остальных случаях."
      ]
    },
    {
      "cell_type": "code",
      "metadata": {
        "colab": {
          "base_uri": "https://localhost:8080/"
        },
        "id": "Z785bvZhAJHy",
        "outputId": "ba0bb692-801a-41c0-95cd-7e7fa5ee53ac"
      },
      "source": [
        "price = int(input('Введите цену товара: '))\n",
        "#Ваше решение тут\n",
        "print((lambda x, price_less, price_above: \n",
        "       'цена выше рынка' if x>price_above \n",
        "       else 'цена ниже рыночной' if x<price_less \n",
        "       else 'все ок' )(price, 800, 1200))\n"
      ],
      "execution_count": null,
      "outputs": [
        {
          "output_type": "stream",
          "text": [
            "Введите цену товара: 100\n",
            "цена ниже рыночной\n"
          ],
          "name": "stdout"
        }
      ]
    },
    {
      "cell_type": "markdown",
      "metadata": {
        "id": "t-FCWwCmBNjV"
      },
      "source": [
        "## Задание 6\n",
        "\n",
        "Даны два словаря: dictionary_1 = {'price_1': 300, 'price_2': 400} и dictionary_2 = {'price_1': 500, 'price_3': 600}. Объедините их в один при помощи встроенных функций языка Python (методов объекта dict)."
      ]
    },
    {
      "cell_type": "code",
      "metadata": {
        "colab": {
          "base_uri": "https://localhost:8080/"
        },
        "id": "M64tMdg3BGI-",
        "outputId": "9e52bec2-8a70-4aae-d323-103eeed61949"
      },
      "source": [
        "#Ваше решение тут\n",
        "dictionary_1 = {'price_1': 300, 'price_2': 400}\n",
        "dictionary_2 = {'price_1': 500, 'price_3': 600}\n",
        "dictionary = dictionary_1.copy()\n",
        "dictionary.update(dictionary_2)"
      ],
      "execution_count": null,
      "outputs": [
        {
          "output_type": "execute_result",
          "data": {
            "text/plain": [
              "{'price_1': 500, 'price_2': 400, 'price_3': 600}"
            ]
          },
          "metadata": {
            "tags": []
          },
          "execution_count": 202
        }
      ]
    },
    {
      "cell_type": "markdown",
      "metadata": {
        "id": "VYrTaYnpDv3e"
      },
      "source": [
        "## Задание 7\n",
        "Сравните время, затраченное на вычисление частного списков list со значениями от 1 до 10^6 и время, затраченное на вычисление частного массивов типа numpy arrays со значениями от 1 до 10^6 (см. пункт \" Numpy array vs Python list\" в этом ноутбуке)\n",
        "\n",
        "*Подсказка! для генерации list используйте функцию range(), для генерации numpy array - np.arange()*"
      ]
    },
    {
      "cell_type": "code",
      "metadata": {
        "colab": {
          "base_uri": "https://localhost:8080/"
        },
        "id": "Ujh0N0ZvCvfe",
        "outputId": "32af80be-0810-4be6-c05d-fb7605f22ee7"
      },
      "source": [
        "#Немного не понял, включительно до 10^6 или нет, поэтому сделал включительно\n",
        "import time\n",
        "\n",
        "size = 10 ** 6\n",
        "\n",
        "lst_1 = range(1, size+1)\n",
        "lst_2 = range(1, size+1)\n",
        "\n",
        "arr_1 = np.arange(1, size+1)\n",
        "arr_2 = np.arange(1, size+1)\n",
        "\n",
        "print(\"\\n Частное массивов:\")\n",
        "\n",
        "initialTime = time.time()\n",
        "lst = [(a / b) for a, b in zip(lst_1, lst_2)]\n",
        "print(\"Время затраченное на деление списков типа list:\",  \n",
        "      (time.time() - initialTime), \n",
        "      \"секунд\")\n",
        "\n",
        "initialTime = time.time() \n",
        "resultantArray = arr_1 / arr_2\n",
        "print(\"Время затраченное на деление массивов типа ndarray:\", \n",
        "      (time.time() - initialTime), \n",
        "      \"секунд\")"
      ],
      "execution_count": null,
      "outputs": [
        {
          "output_type": "stream",
          "text": [
            "\n",
            " Частное массивов :\n",
            "Время затраченное на деление списков типа list: 0.15817618370056152 секунд\n",
            "Время затраченное на деление массивов типа ndarray: 0.006802797317504883 секунд\n"
          ],
          "name": "stdout"
        }
      ]
    },
    {
      "cell_type": "markdown",
      "metadata": {
        "id": "rw7v8PGlFeKj"
      },
      "source": [
        "## Задание 8\n",
        "\n",
        "Напишите цикл, который выводит все числа от 0 до 500, делящиеся на 7, если в них есть цифра 8.\n",
        "Подсказка: переменную типа int можно привести к типу str:\n",
        "```\n",
        "x = 5\n",
        "y = str(x)\n",
        "```"
      ]
    },
    {
      "cell_type": "code",
      "metadata": {
        "id": "95xgUWkhEAio",
        "colab": {
          "base_uri": "https://localhost:8080/"
        },
        "outputId": "1eb391c8-da6c-4144-a17a-a984e6856083"
      },
      "source": [
        "#Ваше решение тут\n",
        "for i in range(501):\n",
        "  if (i % 7 == 0) and ('8' in str(i)):\n",
        "    print(i)"
      ],
      "execution_count": null,
      "outputs": [
        {
          "output_type": "stream",
          "text": [
            "28\n",
            "84\n",
            "98\n",
            "168\n",
            "182\n",
            "189\n",
            "238\n",
            "280\n",
            "287\n",
            "308\n",
            "378\n",
            "385\n",
            "448\n",
            "483\n"
          ],
          "name": "stdout"
        }
      ]
    },
    {
      "cell_type": "markdown",
      "metadata": {
        "id": "ORiF3smuGPSU"
      },
      "source": [
        "## Задание 9\n",
        "Дан массив строк mas. Одной строкой создайте словарь, в котором по ключу строки будет записана пара (кортеж длины 2) (индекс строки в массиве mas, длина строки)"
      ]
    },
    {
      "cell_type": "code",
      "metadata": {
        "colab": {
          "base_uri": "https://localhost:8080/"
        },
        "id": "WGm-xViIFwNS",
        "outputId": "db13fdba-c3e5-4426-f08d-fc57ac98d633"
      },
      "source": [
        "mas = ['abc', 'def', 'hello', 'world']\n",
        "#Ваше решение тут\n",
        "{j: (i, len(j)) for i,j in enumerate(mas)}"
      ],
      "execution_count": null,
      "outputs": [
        {
          "output_type": "execute_result",
          "data": {
            "text/plain": [
              "{'abc': (0, 3), 'def': (1, 3), 'hello': (2, 5), 'world': (3, 5)}"
            ]
          },
          "metadata": {
            "tags": []
          },
          "execution_count": 205
        }
      ]
    },
    {
      "cell_type": "markdown",
      "metadata": {
        "id": "JOfOYKkNHMPy"
      },
      "source": [
        "## Задание 10\n",
        "Реализовать функцию, которая сохраняет в 2 глобальные переменные:\n",
        "сумму всех позиционных аргументов - релизовать через lambda;\n",
        "название всех именованных аргументов в виде списка."
      ]
    },
    {
      "cell_type": "code",
      "metadata": {
        "colab": {
          "base_uri": "https://localhost:8080/"
        },
        "id": "3xg8ELhdTb12",
        "outputId": "d7e17d81-b8b7-4587-b58f-4eef758c2566"
      },
      "source": [
        "summ = 0\n",
        "names = []\n",
        "\n",
        "\n",
        "def random_function(*args, **kwargs):\n",
        "  global summ, names\n",
        "  summ = (lambda x: sum(x))(args)\n",
        "  names = [i for i in d.keys()]\n",
        "\n",
        "random_function(1, 2, 3, a=4, b=5)\n",
        "print(f'Cумма {summ}, названия {names}')"
      ],
      "execution_count": null,
      "outputs": [
        {
          "output_type": "stream",
          "text": [
            "Cумма 6, названия ['a', 'b']\n"
          ],
          "name": "stdout"
        }
      ]
    }
  ]
}

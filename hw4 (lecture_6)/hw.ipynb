{
  "nbformat": 4,
  "nbformat_minor": 0,
  "metadata": {
    "colab": {
      "name": "hw.ipynb",
      "provenance": [],
      "authorship_tag": "ABX9TyOSn7WHrzwxfLNbEQx7yfW1",
      "include_colab_link": true
    },
    "kernelspec": {
      "name": "python3",
      "display_name": "Python 3"
    }
  },
  "cells": [
    {
      "cell_type": "markdown",
      "metadata": {
        "id": "view-in-github",
        "colab_type": "text"
      },
      "source": [
        "<a href=\"https://colab.research.google.com/github/alexandmarkov/sberbank_reboot/blob/main/hw.ipynb\" target=\"_parent\"><img src=\"https://colab.research.google.com/assets/colab-badge.svg\" alt=\"Open In Colab\"/></a>"
      ]
    },
    {
      "cell_type": "markdown",
      "metadata": {
        "id": "AuogX2U9q7wX"
      },
      "source": [
        "## 1 задание"
      ]
    },
    {
      "cell_type": "markdown",
      "metadata": {
        "id": "gGZ-GRg-pYC1"
      },
      "source": [
        "Допустим, есть таблица test_tbl.\r\n",
        "Чтобы добавить константный столбец с количеством строк в таблицу, нужно сначала сделать alter table. Затем update.\r\n",
        "Запрос на sql без оконных функций (сам пишу на PostgreSQL, поэтому, возможно, может отличаться от других):\r\n",
        "\r\n",
        "**alter table** test_tbl **add column** cnt_rows **int**;  \r\n",
        "**update** test_tbl **set** cnt_rows=(**select** *count*(1) **from** test_tbl);"
      ]
    },
    {
      "cell_type": "markdown",
      "metadata": {
        "id": "KJ2u9M3orAKB"
      },
      "source": [
        "## 2 задание"
      ]
    },
    {
      "cell_type": "markdown",
      "metadata": {
        "id": "3svSzsvwvL6X"
      },
      "source": [
        "Не совсем понял, нужно ли выводить МСК с именем, улицей и почтовым кодом\r\n",
        ", а все остальные города - вывести просто null во всех полях.  \r\n",
        "Или вывести имя, улицу и почтовый код, предварительно отфильтровав по Москве.  \r\n",
        "Так как задание по CASE, то скорее всего 1 вариант"
      ]
    },
    {
      "cell_type": "code",
      "metadata": {
        "colab": {
          "base_uri": "https://localhost:8080/",
          "height": 173
        },
        "id": "Nhs3-akssEBz",
        "outputId": "f782d123-c551-4240-db76-fd1837a6fcae"
      },
      "source": [
        "pd.read_sql('''\r\n",
        "SELECT \r\n",
        "      case when adr.state='Moscow' then p.name end name\r\n",
        "    , case when adr.state='Moscow' then adr.street_name end street_name\r\n",
        "    , case when adr.state='Moscow' then adr.post_code end post_code\r\n",
        "    from person p\r\n",
        "    join address adr on adr.person_id = p.id\r\n",
        "    order by adr.state='Moscow' desc, name;\r\n",
        "''', connection)"
      ],
      "execution_count": 52,
      "outputs": [
        {
          "output_type": "execute_result",
          "data": {
            "text/html": [
              "<div>\n",
              "<style scoped>\n",
              "    .dataframe tbody tr th:only-of-type {\n",
              "        vertical-align: middle;\n",
              "    }\n",
              "\n",
              "    .dataframe tbody tr th {\n",
              "        vertical-align: top;\n",
              "    }\n",
              "\n",
              "    .dataframe thead th {\n",
              "        text-align: right;\n",
              "    }\n",
              "</style>\n",
              "<table border=\"1\" class=\"dataframe\">\n",
              "  <thead>\n",
              "    <tr style=\"text-align: right;\">\n",
              "      <th></th>\n",
              "      <th>name</th>\n",
              "      <th>street_name</th>\n",
              "      <th>post_code</th>\n",
              "    </tr>\n",
              "  </thead>\n",
              "  <tbody>\n",
              "    <tr>\n",
              "      <th>0</th>\n",
              "      <td>Lisa</td>\n",
              "      <td>Pervomay Street</td>\n",
              "      <td>141700</td>\n",
              "    </tr>\n",
              "    <tr>\n",
              "      <th>1</th>\n",
              "      <td>Moshe</td>\n",
              "      <td>Pervomay Street</td>\n",
              "      <td>141700</td>\n",
              "    </tr>\n",
              "    <tr>\n",
              "      <th>2</th>\n",
              "      <td>None</td>\n",
              "      <td>None</td>\n",
              "      <td>None</td>\n",
              "    </tr>\n",
              "    <tr>\n",
              "      <th>3</th>\n",
              "      <td>None</td>\n",
              "      <td>None</td>\n",
              "      <td>None</td>\n",
              "    </tr>\n",
              "  </tbody>\n",
              "</table>\n",
              "</div>"
            ],
            "text/plain": [
              "    name      street_name post_code\n",
              "0   Lisa  Pervomay Street    141700\n",
              "1  Moshe  Pervomay Street    141700\n",
              "2   None             None      None\n",
              "3   None             None      None"
            ]
          },
          "metadata": {
            "tags": []
          },
          "execution_count": 52
        }
      ]
    }
  ]
}

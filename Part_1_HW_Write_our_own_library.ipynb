{
  "nbformat": 4,
  "nbformat_minor": 0,
  "metadata": {
    "colab": {
      "name": "Part_1_HW_Write_our_own_library",
      "provenance": [],
      "collapsed_sections": [],
      "include_colab_link": true
    },
    "kernelspec": {
      "name": "python3",
      "display_name": "Python 3"
    }
  },
  "cells": [
    {
      "cell_type": "markdown",
      "metadata": {
        "id": "view-in-github",
        "colab_type": "text"
      },
      "source": [
        "<a href=\"https://colab.research.google.com/github/alexandmarkov/sberbank_reboot/blob/main/Part_1_HW_Write_our_own_library.ipynb\" target=\"_parent\"><img src=\"https://colab.research.google.com/assets/colab-badge.svg\" alt=\"Open In Colab\"/></a>"
      ]
    },
    {
      "cell_type": "markdown",
      "metadata": {
        "id": "-PkQ9hSoulSP"
      },
      "source": [
        "## Домашнее задание. Часть 1.\n",
        "\n",
        "- напишем свою собственную библиотеку\n",
        "\n",
        "Вего за эту часть ДЗ можно набрать максимум **11.5 баллов**. Разбиение баллов по каждой из задач представлено непосредственно перед текстом каждой задачи.\n",
        "\n",
        "**Дедлайн - пятница, 11.12.2020 в 23:59.**\n",
        "\n",
        "Дедлайн жесткий, сдача после дедлайна - 0 баллов за ДЗ."
      ]
    },
    {
      "cell_type": "markdown",
      "metadata": {
        "id": "MEQd0OJnD4ut"
      },
      "source": [
        "# **Задание 1**\n",
        "\n",
        "Реализуйте следующие функции и сохраните их в библиотеку **my_math_lib.py** (пока без использования конструкции `if __name__ == \"__main__\"`)"
      ]
    },
    {
      "cell_type": "code",
      "metadata": {
        "colab": {
          "base_uri": "https://localhost:8080/"
        },
        "id": "Q4dG5V_1biHz",
        "outputId": "5aa5f747-4cec-4f7b-824f-07c028935384"
      },
      "source": [
        "%%writefile my_math_lib.py\n",
        "import math\n",
        "import numpy as np\n",
        "from functools import reduce\n",
        "\n",
        "\n",
        "def deg_to_rad(degrees):\n",
        "    \"\"\"Преобразование градусов в радианы\"\"\"\n",
        "    return degrees * math.pi / 180\n",
        "\n",
        "\n",
        "def rad_to_def(radians):\n",
        "    \"\"\"Преобразование радиан в градусы\"\"\"\n",
        "    return radians * 180 / math.pi\n",
        "\n",
        "\n",
        "def discriminant(a, b, c):\n",
        "    \"\"\"Вычисление дискриминанта\"\"\"\n",
        "    return b**2 - 4*a*c\n",
        "\n",
        "\n",
        "def power_base_sum(a, b):\n",
        "    \"\"\"Сумма всех цифр основания в указанной степени\"\"\"\n",
        "    return sum([int(num) for num in str(a**b) if num.isdigit()])\n",
        "\n",
        "\n",
        "def magic_square(n):\n",
        "    \"\"\"Вычисление магического квадрата\"\"\"\n",
        "    arr = np.zeros(shape=(n, n), dtype=np.int16)\n",
        "    i = n / 2\n",
        "    j = n - 1\n",
        "    num = 1\n",
        "    while num <= (n**2):\n",
        "        if i == -1 and j == n:\n",
        "            j = n - 2\n",
        "            i = 0\n",
        "        else:\n",
        "            if j == n:\n",
        "                j = 0\n",
        "            if i < 0:\n",
        "                i = n - 1\n",
        "        \n",
        "        if arr[int(i)][int(j)]:\n",
        "            j = j - 2\n",
        "            i = i + 1\n",
        "            continue\n",
        "        else:\n",
        "            arr[int(i)][int(j)] = num\n",
        "            num += 1\n",
        "        j += 1\n",
        "        i -= 1\n",
        "    return arr\n",
        "\n",
        "\n",
        "def mult_list(lst: list):\n",
        "    \"\"\"Умножение всех чисел в массиве\"\"\"\n",
        "    filter_list = list(filter(lambda x: str(x).isdigit(), lst))\n",
        "    return reduce(lambda x, y: x*y, filter_list)\n",
        "\n",
        "\n",
        "def create_list():\n",
        "    \"\"\"Печатает и возвращает массив квадратов чисел от 1 до 30\"\"\"\n",
        "    lst = [i**2 for i in range(1, 31)]\n",
        "    print(lst)\n",
        "    return lst"
      ],
      "execution_count": null,
      "outputs": [
        {
          "output_type": "stream",
          "text": [
            "Overwriting my_math_lib.py\n"
          ],
          "name": "stdout"
        }
      ]
    },
    {
      "cell_type": "markdown",
      "metadata": {
        "id": "cSdLK3ZSID3B"
      },
      "source": [
        "# **Задание 2**\n",
        "Импортируйте все методы из модуля my_math_lib.\n",
        "\n",
        " **0.25 point** \n",
        " - при помощи функции **def discriminant()** посчитайте дискриминант следующего уравнения: \n",
        " $x^{2}+3 x+4=0$\n",
        "\n",
        "**0.25 point** \n",
        " - постройте магический квадрат размера 5х5"
      ]
    },
    {
      "cell_type": "code",
      "metadata": {
        "id": "k1Jhjs6FD8Sy"
      },
      "source": [
        "from my_math_lib import *"
      ],
      "execution_count": null,
      "outputs": []
    },
    {
      "cell_type": "code",
      "metadata": {
        "id": "zjQVS7m8uj4J",
        "colab": {
          "base_uri": "https://localhost:8080/"
        },
        "outputId": "533fd2d5-8e89-45b6-dd63-cced8a83ac19"
      },
      "source": [
        "print(discriminant(1, 3, 4))"
      ],
      "execution_count": null,
      "outputs": [
        {
          "output_type": "stream",
          "text": [
            "-7\n"
          ],
          "name": "stdout"
        }
      ]
    },
    {
      "cell_type": "code",
      "metadata": {
        "colab": {
          "base_uri": "https://localhost:8080/"
        },
        "id": "vqXeSJ4XdckY",
        "outputId": "072142db-0007-4285-dedc-b21234227c5b"
      },
      "source": [
        "print(magic_square(5))"
      ],
      "execution_count": null,
      "outputs": [
        {
          "output_type": "stream",
          "text": [
            "[[ 9  3 22 16 15]\n",
            " [ 2 21 20 14  8]\n",
            " [25 19 13  7  1]\n",
            " [18 12  6  5 24]\n",
            " [11 10  4 23 17]]\n"
          ],
          "name": "stdout"
        }
      ]
    },
    {
      "cell_type": "markdown",
      "metadata": {
        "id": "1xqoQlZkId3s"
      },
      "source": [
        "# **Задание 3**\n",
        "\n",
        "**2 point**\n",
        "* Добавьте в вашу библиотеку конструкцию `if __name__ == \"__main__\"`, которая должна принимать одну из вышеперечисленных функций. \n",
        "* Важно! аргументы, подаваемые в функцию, должны подаваться напряму через терминал (как в примере)! Используйте для этого библиотеку `sys`"
      ]
    },
    {
      "cell_type": "code",
      "metadata": {
        "id": "CPMx4V4DJIVx",
        "colab": {
          "base_uri": "https://localhost:8080/"
        },
        "outputId": "1f6e21ee-ed97-421f-9d6e-fa9d6b606822"
      },
      "source": [
        "%%writefile my_math_lib.py\n",
        "import sys\n",
        "import math\n",
        "import numpy as np\n",
        "from functools import reduce\n",
        "\n",
        "\n",
        "n = int(sys.argv[1])\n",
        "\n",
        "\n",
        "def deg_to_rad(degrees):\n",
        "    \"\"\"Преобразование градусов в радианы\"\"\"\n",
        "    return degrees * math.pi / 180\n",
        "\n",
        "\n",
        "def rad_to_def(radians):\n",
        "    \"\"\"Преобразование радиан в градусы\"\"\"\n",
        "    return radians * 180 / math.pi\n",
        "\n",
        "\n",
        "def discriminant(a, b, c):\n",
        "    \"\"\"Вычисление дискриминанта\"\"\"\n",
        "    return b**2 - 4*a*c\n",
        "\n",
        "\n",
        "def power_base_sum(a, b):\n",
        "    \"\"\"Сумма всех цифр основания в указанной степени\"\"\"\n",
        "    return sum([int(num) for num in str(a**b) if num.isdigit()])\n",
        "\n",
        "\n",
        "def magic_square(n):\n",
        "    \"\"\"Вычисление магического квадрата\"\"\"\n",
        "    arr = np.zeros(shape=(n, n), dtype=np.int16)\n",
        "    i = n / 2\n",
        "    j = n - 1\n",
        "    num = 1\n",
        "    while num <= (n**2):\n",
        "        if i == -1 and j == n:\n",
        "            j = n - 2\n",
        "            i = 0\n",
        "        else:\n",
        "            if j == n:\n",
        "                j = 0\n",
        "            if i < 0:\n",
        "                i = n - 1\n",
        "        \n",
        "        if arr[int(i)][int(j)]:\n",
        "            j = j - 2\n",
        "            i = i + 1\n",
        "            continue\n",
        "        else:\n",
        "            arr[int(i)][int(j)] = num\n",
        "            num += 1\n",
        "        j += 1\n",
        "        i -= 1\n",
        "    return arr\n",
        "\n",
        "\n",
        "def mult_list(lst: list):\n",
        "    \"\"\"Умножение всех чисел в массиве\"\"\"\n",
        "    filter_list = list(filter(lambda x: str(x).isdigit(), lst))\n",
        "    return reduce(lambda x, y: x*y, filter_list)\n",
        "\n",
        "\n",
        "def create_list():\n",
        "    \"\"\"Печатает и возвращает массив квадратов чисел от 1 до 30\"\"\"\n",
        "    lst = [i**2 for i in range(1, 31)]\n",
        "    print(lst)\n",
        "    return lst\n",
        "\n",
        "\n",
        "if __name__ == \"__main__\":\n",
        "    print(magic_square(n))"
      ],
      "execution_count": null,
      "outputs": [
        {
          "output_type": "stream",
          "text": [
            "Overwriting my_math_lib.py\n"
          ],
          "name": "stdout"
        }
      ]
    },
    {
      "cell_type": "code",
      "metadata": {
        "id": "UDQ_wTJbJAS7",
        "colab": {
          "base_uri": "https://localhost:8080/"
        },
        "outputId": "8a1139a6-a385-46e2-872f-5a60bbb494d0"
      },
      "source": [
        "!python3 my_math_lib.py 5"
      ],
      "execution_count": null,
      "outputs": [
        {
          "output_type": "stream",
          "text": [
            "[[ 9  3 22 16 15]\n",
            " [ 2 21 20 14  8]\n",
            " [25 19 13  7  1]\n",
            " [18 12  6  5 24]\n",
            " [11 10  4 23 17]]\n"
          ],
          "name": "stdout"
        }
      ]
    }
  ]
}
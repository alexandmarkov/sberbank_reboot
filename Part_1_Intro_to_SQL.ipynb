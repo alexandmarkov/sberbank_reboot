{
  "nbformat": 4,
  "nbformat_minor": 0,
  "metadata": {
    "colab": {
      "name": "Part_1_Intro_to_SQL.ipynb",
      "provenance": [],
      "authorship_tag": "ABX9TyM1kID6JHuLkUQ1rELSJjR8",
      "include_colab_link": true
    },
    "kernelspec": {
      "name": "python3",
      "display_name": "Python 3"
    }
  },
  "cells": [
    {
      "cell_type": "markdown",
      "metadata": {
        "id": "view-in-github",
        "colab_type": "text"
      },
      "source": [
        "<a href=\"https://colab.research.google.com/github/alexandmarkov/sberbank_reboot/blob/main/Part_1_Intro_to_SQL.ipynb\" target=\"_parent\"><img src=\"https://colab.research.google.com/assets/colab-badge.svg\" alt=\"Open In Colab\"/></a>"
      ]
    },
    {
      "cell_type": "code",
      "metadata": {
        "colab": {
          "base_uri": "https://localhost:8080/"
        },
        "id": "hLB_T3laT7hh",
        "outputId": "eaa32b11-2e81-4404-f14c-c974400f9987"
      },
      "source": [
        "from google.colab import drive\r\n",
        "drive.mount('/content/drive')"
      ],
      "execution_count": 1,
      "outputs": [
        {
          "output_type": "stream",
          "text": [
            "Mounted at /content/drive\n"
          ],
          "name": "stdout"
        }
      ]
    },
    {
      "cell_type": "code",
      "metadata": {
        "id": "mts4kpL8T_kz"
      },
      "source": [
        "import sqlite3"
      ],
      "execution_count": 2,
      "outputs": []
    },
    {
      "cell_type": "code",
      "metadata": {
        "colab": {
          "base_uri": "https://localhost:8080/"
        },
        "id": "DK6SbLqKUIKp",
        "outputId": "7b151e56-efba-4f15-fdde-f877f27d6b75"
      },
      "source": [
        "dir(sqlite3)"
      ],
      "execution_count": 3,
      "outputs": [
        {
          "output_type": "execute_result",
          "data": {
            "text/plain": [
              "['Binary',\n",
              " 'Cache',\n",
              " 'Connection',\n",
              " 'Cursor',\n",
              " 'DataError',\n",
              " 'DatabaseError',\n",
              " 'Date',\n",
              " 'DateFromTicks',\n",
              " 'Error',\n",
              " 'IntegrityError',\n",
              " 'InterfaceError',\n",
              " 'InternalError',\n",
              " 'NotSupportedError',\n",
              " 'OperationalError',\n",
              " 'OptimizedUnicode',\n",
              " 'PARSE_COLNAMES',\n",
              " 'PARSE_DECLTYPES',\n",
              " 'PrepareProtocol',\n",
              " 'ProgrammingError',\n",
              " 'Row',\n",
              " 'SQLITE_ALTER_TABLE',\n",
              " 'SQLITE_ANALYZE',\n",
              " 'SQLITE_ATTACH',\n",
              " 'SQLITE_CREATE_INDEX',\n",
              " 'SQLITE_CREATE_TABLE',\n",
              " 'SQLITE_CREATE_TEMP_INDEX',\n",
              " 'SQLITE_CREATE_TEMP_TABLE',\n",
              " 'SQLITE_CREATE_TEMP_TRIGGER',\n",
              " 'SQLITE_CREATE_TEMP_VIEW',\n",
              " 'SQLITE_CREATE_TRIGGER',\n",
              " 'SQLITE_CREATE_VIEW',\n",
              " 'SQLITE_DELETE',\n",
              " 'SQLITE_DENY',\n",
              " 'SQLITE_DETACH',\n",
              " 'SQLITE_DROP_INDEX',\n",
              " 'SQLITE_DROP_TABLE',\n",
              " 'SQLITE_DROP_TEMP_INDEX',\n",
              " 'SQLITE_DROP_TEMP_TABLE',\n",
              " 'SQLITE_DROP_TEMP_TRIGGER',\n",
              " 'SQLITE_DROP_TEMP_VIEW',\n",
              " 'SQLITE_DROP_TRIGGER',\n",
              " 'SQLITE_DROP_VIEW',\n",
              " 'SQLITE_IGNORE',\n",
              " 'SQLITE_INSERT',\n",
              " 'SQLITE_OK',\n",
              " 'SQLITE_PRAGMA',\n",
              " 'SQLITE_READ',\n",
              " 'SQLITE_REINDEX',\n",
              " 'SQLITE_SELECT',\n",
              " 'SQLITE_TRANSACTION',\n",
              " 'SQLITE_UPDATE',\n",
              " 'Statement',\n",
              " 'Time',\n",
              " 'TimeFromTicks',\n",
              " 'Timestamp',\n",
              " 'TimestampFromTicks',\n",
              " 'Warning',\n",
              " '__builtins__',\n",
              " '__cached__',\n",
              " '__doc__',\n",
              " '__file__',\n",
              " '__loader__',\n",
              " '__name__',\n",
              " '__package__',\n",
              " '__path__',\n",
              " '__spec__',\n",
              " 'adapt',\n",
              " 'adapters',\n",
              " 'apilevel',\n",
              " 'collections',\n",
              " 'complete_statement',\n",
              " 'connect',\n",
              " 'converters',\n",
              " 'datetime',\n",
              " 'dbapi2',\n",
              " 'enable_callback_tracebacks',\n",
              " 'enable_shared_cache',\n",
              " 'paramstyle',\n",
              " 'register_adapter',\n",
              " 'register_converter',\n",
              " 'sqlite_version',\n",
              " 'sqlite_version_info',\n",
              " 'threadsafety',\n",
              " 'time',\n",
              " 'version',\n",
              " 'version_info']"
            ]
          },
          "metadata": {
            "tags": []
          },
          "execution_count": 3
        }
      ]
    },
    {
      "cell_type": "code",
      "metadata": {
        "id": "W-9LDlitUKPh"
      },
      "source": [
        "import os\r\n",
        "path = \"./drive/My Drive/my_databases\"\r\n",
        "if not os.path.exists(path):\r\n",
        "    os.mkdir(path)"
      ],
      "execution_count": 66,
      "outputs": []
    },
    {
      "cell_type": "code",
      "metadata": {
        "colab": {
          "base_uri": "https://localhost:8080/"
        },
        "id": "pAVRiqJEUMXx",
        "outputId": "8e3a49d5-fb5f-4741-d8c7-75e02c52e4af"
      },
      "source": [
        "os.path.exists(path)"
      ],
      "execution_count": 67,
      "outputs": [
        {
          "output_type": "execute_result",
          "data": {
            "text/plain": [
              "True"
            ]
          },
          "metadata": {
            "tags": []
          },
          "execution_count": 67
        }
      ]
    },
    {
      "cell_type": "code",
      "metadata": {
        "colab": {
          "base_uri": "https://localhost:8080/"
        },
        "id": "1kikB9b3UOLq",
        "outputId": "7610cadd-a8fa-4ac9-97dc-79abca4c8e09"
      },
      "source": [
        "conn = sqlite3.connect(path + '/test.db')\r\n",
        "print(\"Opened database successfully\");"
      ],
      "execution_count": 68,
      "outputs": [
        {
          "output_type": "stream",
          "text": [
            "Opened database successfully\n"
          ],
          "name": "stdout"
        }
      ]
    },
    {
      "cell_type": "code",
      "metadata": {
        "id": "gDDYL1naUPgh"
      },
      "source": [
        "cursor = conn.cursor()"
      ],
      "execution_count": 69,
      "outputs": []
    },
    {
      "cell_type": "code",
      "metadata": {
        "colab": {
          "base_uri": "https://localhost:8080/"
        },
        "id": "f2cz9nkjURCx",
        "outputId": "e2eed446-0b7a-4a3b-970d-c8921bdb08d2"
      },
      "source": [
        "cursor.execute('''\r\n",
        "CREATE TABLE IF NOT EXISTS team_data(team text, \r\n",
        "                      country text, \r\n",
        "                      season integer, \r\n",
        "                      total_goals integer);''')\r\n",
        "\r\n",
        "conn.commit()\r\n",
        "\r\n",
        "print(\"Table created successfully\");"
      ],
      "execution_count": 70,
      "outputs": [
        {
          "output_type": "stream",
          "text": [
            "Table created successfully\n"
          ],
          "name": "stdout"
        }
      ]
    },
    {
      "cell_type": "code",
      "metadata": {
        "colab": {
          "base_uri": "https://localhost:8080/"
        },
        "id": "3zMl-E66UTbJ",
        "outputId": "95b9d4f4-c223-44c5-ff2b-c75e7f800678"
      },
      "source": [
        "cursor.execute(\"INSERT INTO team_data VALUES('Real Madrid', 'Spain', 2019, 53);\")\r\n",
        "cursor.execute(\"INSERT INTO team_data VALUES('Barcelona', 'Spain', 2019, 47);\")"
      ],
      "execution_count": 71,
      "outputs": [
        {
          "output_type": "execute_result",
          "data": {
            "text/plain": [
              "<sqlite3.Cursor at 0x7fb687c3b9d0>"
            ]
          },
          "metadata": {
            "tags": []
          },
          "execution_count": 71
        }
      ]
    },
    {
      "cell_type": "code",
      "metadata": {
        "colab": {
          "base_uri": "https://localhost:8080/"
        },
        "id": "3YqGobU0UU8h",
        "outputId": "536e09b4-02e5-4643-dc47-1d6c267c234e"
      },
      "source": [
        "sections = [('Arsenal', 'UK', 2019, 52), ('Real Madrid', 'Spain', 2018, 49),\r\n",
        "             ('Barcelona', 'Spain', 2018, 45), ('Arsenal', 'UK', 2018, 50 )]\r\n",
        "cursor.executemany(\"INSERT INTO team_data VALUES (?, ?, ?, ?)\", sections)"
      ],
      "execution_count": 72,
      "outputs": [
        {
          "output_type": "execute_result",
          "data": {
            "text/plain": [
              "<sqlite3.Cursor at 0x7fb687c3b9d0>"
            ]
          },
          "metadata": {
            "tags": []
          },
          "execution_count": 72
        }
      ]
    },
    {
      "cell_type": "code",
      "metadata": {
        "id": "bDkJaX6mUWwR"
      },
      "source": [
        "conn.commit()\r\n",
        "conn.close()"
      ],
      "execution_count": 73,
      "outputs": []
    },
    {
      "cell_type": "code",
      "metadata": {
        "colab": {
          "base_uri": "https://localhost:8080/"
        },
        "id": "QGleawmKUYSJ",
        "outputId": "bc22cd6f-bb46-4297-e53a-d1da8644adc2"
      },
      "source": [
        "conn = sqlite3.connect(path + '/test.db')\r\n",
        "# Создаем объект типа cursor для доступа к данным\r\n",
        "cursor = conn.cursor()\r\n",
        "\r\n",
        "#Запрос данных из таблицы \r\n",
        "sql  = '''SELECT team, total_goals FROM team_data'''\r\n",
        "\r\n",
        "cursor.execute(sql)\r\n",
        "\r\n",
        "for row in cursor:\r\n",
        "    print(row)"
      ],
      "execution_count": 74,
      "outputs": [
        {
          "output_type": "stream",
          "text": [
            "('Real Madrid', 53)\n",
            "('Barcelona', 47)\n",
            "('Arsenal', 52)\n",
            "('Real Madrid', 49)\n",
            "('Barcelona', 45)\n",
            "('Arsenal', 50)\n",
            "('Real Madrid', 53)\n",
            "('Barcelona', 47)\n",
            "('Arsenal', 52)\n",
            "('Real Madrid', 49)\n",
            "('Barcelona', 45)\n",
            "('Arsenal', 50)\n"
          ],
          "name": "stdout"
        }
      ]
    },
    {
      "cell_type": "code",
      "metadata": {
        "colab": {
          "base_uri": "https://localhost:8080/"
        },
        "id": "1LqeqN6dUaEZ",
        "outputId": "c5d8f424-b347-49e1-e44f-d9d15b9bf4d1"
      },
      "source": [
        "sql  = ''' SELECT team, AVG(total_goals) FROM team_data'''\r\n",
        "\r\n",
        "cursor.execute(sql)\r\n",
        "\r\n",
        "for row in cursor:\r\n",
        "    print(row)"
      ],
      "execution_count": 75,
      "outputs": [
        {
          "output_type": "stream",
          "text": [
            "('Arsenal', 49.333333333333336)\n"
          ],
          "name": "stdout"
        }
      ]
    },
    {
      "cell_type": "code",
      "metadata": {
        "colab": {
          "base_uri": "https://localhost:8080/"
        },
        "id": "Q2_ZKyRVUgZ0",
        "outputId": "279828ff-2b71-4947-a270-6aacdaf9d922"
      },
      "source": [
        "sql  = ''' SELECT team, AVG(total_goals) AS avg_goals FROM team_data GROUP BY team;'''\r\n",
        "cursor.execute(sql)\r\n",
        "\r\n",
        "for row in cursor:\r\n",
        "  print(row)"
      ],
      "execution_count": 76,
      "outputs": [
        {
          "output_type": "stream",
          "text": [
            "('Arsenal', 51.0)\n",
            "('Barcelona', 46.0)\n",
            "('Real Madrid', 51.0)\n"
          ],
          "name": "stdout"
        }
      ]
    },
    {
      "cell_type": "code",
      "metadata": {
        "id": "PgHZnJRQUjOR"
      },
      "source": [
        "cursor.close()\r\n",
        "conn.close()"
      ],
      "execution_count": 77,
      "outputs": []
    },
    {
      "cell_type": "code",
      "metadata": {
        "colab": {
          "base_uri": "https://localhost:8080/"
        },
        "id": "oUfv3TXVUkix",
        "outputId": "41001033-e683-42d4-fdfa-ff69c3c056b7"
      },
      "source": [
        "# First try to filter the teams with average goals higher than 50\r\n",
        "# This query will generate an error\r\n",
        "\r\n",
        "conn = sqlite3.connect(path + '/test.db')\r\n",
        "cursor = conn.cursor()\r\n",
        "\r\n",
        "sql = ''' SELECT team AS team_name,\r\n",
        "                            AVG(total_goals) AS avg_goals\r\n",
        "                          FROM team_data\r\n",
        "                          GROUP BY team \r\n",
        "                          HAVING AVG(total_goals) > 50;'''\r\n",
        "                          \r\n",
        "cursor.execute(sql)\r\n",
        "\r\n",
        "for row in cursor:\r\n",
        "  print(row)\r\n",
        "conn.close()"
      ],
      "execution_count": 78,
      "outputs": [
        {
          "output_type": "stream",
          "text": [
            "('Arsenal', 51.0)\n",
            "('Real Madrid', 51.0)\n"
          ],
          "name": "stdout"
        }
      ]
    },
    {
      "cell_type": "code",
      "metadata": {
        "colab": {
          "base_uri": "https://localhost:8080/"
        },
        "id": "6wy2DxECUmew",
        "outputId": "5ef4bbd3-94a7-4cc5-99c7-2cdd447e31ba"
      },
      "source": [
        "# Now, the correct query, using the appropriate sub-query\r\n",
        "\r\n",
        "conn = sqlite3.connect(path + '/test.db')\r\n",
        "\r\n",
        "cursor = conn.cursor()\r\n",
        "\r\n",
        "sql = ''' SELECT team_name, avg_goals\r\n",
        "                          FROM (\r\n",
        "\r\n",
        "                          -- Here we make our sub-query:\r\n",
        "                            SELECT team AS team_name,\r\n",
        "                            AVG(total_goals) AS avg_goals\r\n",
        "                            FROM team_data\r\n",
        "                            GROUP BY team) tp\r\n",
        "                          -- End of the sub-query\r\n",
        "                          \r\n",
        "                          WHERE avg_goals > 50;'''\r\n",
        "\r\n",
        "cursor.execute(sql)\r\n",
        "\r\n",
        "for row in cursor:\r\n",
        "  print(row)\r\n",
        "conn.close()"
      ],
      "execution_count": 79,
      "outputs": [
        {
          "output_type": "stream",
          "text": [
            "('Arsenal', 51.0)\n",
            "('Real Madrid', 51.0)\n"
          ],
          "name": "stdout"
        }
      ]
    },
    {
      "cell_type": "code",
      "metadata": {
        "id": "QBytcF-0UoV4"
      },
      "source": [
        "import pandas as pd\r\n",
        "\r\n",
        "\r\n",
        "conn = sqlite3.connect(path + '/test.db')\r\n",
        "cursor = conn.cursor()\r\n",
        "\r\n",
        "#sql  = '''SELECT team, total_goals AS avg_goals FROM team_data GROUP BY team;'''\r\n",
        "sql  = '''SELECT team, total_goals FROM team_data;'''\r\n",
        "                          \r\n",
        "cursor.execute(sql)\r\n",
        "\r\n",
        "# Загружаем все результаты в список списков rows \r\n",
        "rows = cursor.fetchall()"
      ],
      "execution_count": 80,
      "outputs": []
    },
    {
      "cell_type": "code",
      "metadata": {
        "colab": {
          "base_uri": "https://localhost:8080/"
        },
        "id": "a5X-BBefUqLw",
        "outputId": "98270826-7547-4f0d-d214-36e5790d5578"
      },
      "source": [
        "rows"
      ],
      "execution_count": 81,
      "outputs": [
        {
          "output_type": "execute_result",
          "data": {
            "text/plain": [
              "[('Real Madrid', 53),\n",
              " ('Barcelona', 47),\n",
              " ('Arsenal', 52),\n",
              " ('Real Madrid', 49),\n",
              " ('Barcelona', 45),\n",
              " ('Arsenal', 50),\n",
              " ('Real Madrid', 53),\n",
              " ('Barcelona', 47),\n",
              " ('Arsenal', 52),\n",
              " ('Real Madrid', 49),\n",
              " ('Barcelona', 45),\n",
              " ('Arsenal', 50)]"
            ]
          },
          "metadata": {
            "tags": []
          },
          "execution_count": 81
        }
      ]
    },
    {
      "cell_type": "code",
      "metadata": {
        "colab": {
          "base_uri": "https://localhost:8080/",
          "height": 421
        },
        "id": "FJ4m6s_5UrXg",
        "outputId": "bef06de2-0dc3-47b6-9946-16a148755f04"
      },
      "source": [
        "pd.DataFrame(rows, columns=('Team', 'Goals') )"
      ],
      "execution_count": 82,
      "outputs": [
        {
          "output_type": "execute_result",
          "data": {
            "text/html": [
              "<div>\n",
              "<style scoped>\n",
              "    .dataframe tbody tr th:only-of-type {\n",
              "        vertical-align: middle;\n",
              "    }\n",
              "\n",
              "    .dataframe tbody tr th {\n",
              "        vertical-align: top;\n",
              "    }\n",
              "\n",
              "    .dataframe thead th {\n",
              "        text-align: right;\n",
              "    }\n",
              "</style>\n",
              "<table border=\"1\" class=\"dataframe\">\n",
              "  <thead>\n",
              "    <tr style=\"text-align: right;\">\n",
              "      <th></th>\n",
              "      <th>Team</th>\n",
              "      <th>Goals</th>\n",
              "    </tr>\n",
              "  </thead>\n",
              "  <tbody>\n",
              "    <tr>\n",
              "      <th>0</th>\n",
              "      <td>Real Madrid</td>\n",
              "      <td>53</td>\n",
              "    </tr>\n",
              "    <tr>\n",
              "      <th>1</th>\n",
              "      <td>Barcelona</td>\n",
              "      <td>47</td>\n",
              "    </tr>\n",
              "    <tr>\n",
              "      <th>2</th>\n",
              "      <td>Arsenal</td>\n",
              "      <td>52</td>\n",
              "    </tr>\n",
              "    <tr>\n",
              "      <th>3</th>\n",
              "      <td>Real Madrid</td>\n",
              "      <td>49</td>\n",
              "    </tr>\n",
              "    <tr>\n",
              "      <th>4</th>\n",
              "      <td>Barcelona</td>\n",
              "      <td>45</td>\n",
              "    </tr>\n",
              "    <tr>\n",
              "      <th>5</th>\n",
              "      <td>Arsenal</td>\n",
              "      <td>50</td>\n",
              "    </tr>\n",
              "    <tr>\n",
              "      <th>6</th>\n",
              "      <td>Real Madrid</td>\n",
              "      <td>53</td>\n",
              "    </tr>\n",
              "    <tr>\n",
              "      <th>7</th>\n",
              "      <td>Barcelona</td>\n",
              "      <td>47</td>\n",
              "    </tr>\n",
              "    <tr>\n",
              "      <th>8</th>\n",
              "      <td>Arsenal</td>\n",
              "      <td>52</td>\n",
              "    </tr>\n",
              "    <tr>\n",
              "      <th>9</th>\n",
              "      <td>Real Madrid</td>\n",
              "      <td>49</td>\n",
              "    </tr>\n",
              "    <tr>\n",
              "      <th>10</th>\n",
              "      <td>Barcelona</td>\n",
              "      <td>45</td>\n",
              "    </tr>\n",
              "    <tr>\n",
              "      <th>11</th>\n",
              "      <td>Arsenal</td>\n",
              "      <td>50</td>\n",
              "    </tr>\n",
              "  </tbody>\n",
              "</table>\n",
              "</div>"
            ],
            "text/plain": [
              "           Team  Goals\n",
              "0   Real Madrid     53\n",
              "1     Barcelona     47\n",
              "2       Arsenal     52\n",
              "3   Real Madrid     49\n",
              "4     Barcelona     45\n",
              "5       Arsenal     50\n",
              "6   Real Madrid     53\n",
              "7     Barcelona     47\n",
              "8       Arsenal     52\n",
              "9   Real Madrid     49\n",
              "10    Barcelona     45\n",
              "11      Arsenal     50"
            ]
          },
          "metadata": {
            "tags": []
          },
          "execution_count": 82
        }
      ]
    },
    {
      "cell_type": "code",
      "metadata": {
        "colab": {
          "base_uri": "https://localhost:8080/",
          "height": 142
        },
        "id": "QWerNcRTUs1Q",
        "outputId": "cb9d0671-a880-4b1e-99bb-3b82d9054aaa"
      },
      "source": [
        "sql  = '''SELECT team, total_goals AS avg_goals FROM team_data GROUP BY team;'''\r\n",
        "                          \r\n",
        "cursor.execute(sql)\r\n",
        "\r\n",
        "# Загружаем все результаты в список списков rows \r\n",
        "rows = cursor.fetchall()\r\n",
        "\r\n",
        "pd.DataFrame(rows, columns=('Team', 'Goals'))"
      ],
      "execution_count": 83,
      "outputs": [
        {
          "output_type": "execute_result",
          "data": {
            "text/html": [
              "<div>\n",
              "<style scoped>\n",
              "    .dataframe tbody tr th:only-of-type {\n",
              "        vertical-align: middle;\n",
              "    }\n",
              "\n",
              "    .dataframe tbody tr th {\n",
              "        vertical-align: top;\n",
              "    }\n",
              "\n",
              "    .dataframe thead th {\n",
              "        text-align: right;\n",
              "    }\n",
              "</style>\n",
              "<table border=\"1\" class=\"dataframe\">\n",
              "  <thead>\n",
              "    <tr style=\"text-align: right;\">\n",
              "      <th></th>\n",
              "      <th>Team</th>\n",
              "      <th>Goals</th>\n",
              "    </tr>\n",
              "  </thead>\n",
              "  <tbody>\n",
              "    <tr>\n",
              "      <th>0</th>\n",
              "      <td>Arsenal</td>\n",
              "      <td>50</td>\n",
              "    </tr>\n",
              "    <tr>\n",
              "      <th>1</th>\n",
              "      <td>Barcelona</td>\n",
              "      <td>45</td>\n",
              "    </tr>\n",
              "    <tr>\n",
              "      <th>2</th>\n",
              "      <td>Real Madrid</td>\n",
              "      <td>49</td>\n",
              "    </tr>\n",
              "  </tbody>\n",
              "</table>\n",
              "</div>"
            ],
            "text/plain": [
              "          Team  Goals\n",
              "0      Arsenal     50\n",
              "1    Barcelona     45\n",
              "2  Real Madrid     49"
            ]
          },
          "metadata": {
            "tags": []
          },
          "execution_count": 83
        }
      ]
    },
    {
      "cell_type": "code",
      "metadata": {
        "id": "Vr2JrCk2UwOQ"
      },
      "source": [
        "cursor.close()\r\n",
        "conn.close()"
      ],
      "execution_count": 84,
      "outputs": []
    },
    {
      "cell_type": "code",
      "metadata": {
        "colab": {
          "base_uri": "https://localhost:8080/"
        },
        "id": "1UVyt7G_Ux0Y",
        "outputId": "e4b2699a-7b2b-4736-8005-2255ddd05829"
      },
      "source": [
        "from sqlalchemy import create_engine\r\n",
        "#engine = create_engine('sqlite:///example.db', echo=True)\r\n",
        "engine = create_engine('sqlite:///:memory:', echo=True)\r\n",
        "#engine = create_engine('sqlite:///:memory:')\r\n",
        "conn = engine.connect()\r\n",
        "\r\n",
        "from sqlalchemy.orm import sessionmaker\r\n",
        "Session = sessionmaker(bind=engine)\r\n",
        "session = Session()"
      ],
      "execution_count": 85,
      "outputs": [
        {
          "output_type": "stream",
          "text": [
            "2020-12-15 17:31:36,669 INFO sqlalchemy.engine.base.Engine SELECT CAST('test plain returns' AS VARCHAR(60)) AS anon_1\n"
          ],
          "name": "stdout"
        },
        {
          "output_type": "stream",
          "text": [
            "INFO:sqlalchemy.engine.base.Engine:SELECT CAST('test plain returns' AS VARCHAR(60)) AS anon_1\n"
          ],
          "name": "stderr"
        },
        {
          "output_type": "stream",
          "text": [
            "2020-12-15 17:31:36,674 INFO sqlalchemy.engine.base.Engine ()\n"
          ],
          "name": "stdout"
        },
        {
          "output_type": "stream",
          "text": [
            "INFO:sqlalchemy.engine.base.Engine:()\n"
          ],
          "name": "stderr"
        },
        {
          "output_type": "stream",
          "text": [
            "2020-12-15 17:31:36,680 INFO sqlalchemy.engine.base.Engine SELECT CAST('test unicode returns' AS VARCHAR(60)) AS anon_1\n"
          ],
          "name": "stdout"
        },
        {
          "output_type": "stream",
          "text": [
            "INFO:sqlalchemy.engine.base.Engine:SELECT CAST('test unicode returns' AS VARCHAR(60)) AS anon_1\n"
          ],
          "name": "stderr"
        },
        {
          "output_type": "stream",
          "text": [
            "2020-12-15 17:31:36,683 INFO sqlalchemy.engine.base.Engine ()\n"
          ],
          "name": "stdout"
        },
        {
          "output_type": "stream",
          "text": [
            "INFO:sqlalchemy.engine.base.Engine:()\n"
          ],
          "name": "stderr"
        }
      ]
    },
    {
      "cell_type": "code",
      "metadata": {
        "id": "3mPRX9GYUzag"
      },
      "source": [
        "from IPython.display import display\r\n",
        "import pandas as pd\r\n",
        "import sqlalchemy\r\n",
        "\r\n",
        "def sql(query):\r\n",
        "    print()\r\n",
        "    print(query)\r\n",
        "    print()\r\n",
        "\r\n",
        "def get_results(query):\r\n",
        "    global engine\r\n",
        "    q = query.statement if isinstance(query, sqlalchemy.orm.query.Query) else query\r\n",
        "    return pd.read_sql(q, engine)\r\n",
        "\r\n",
        "def display_results(query):\r\n",
        "    df = get_results(query)\r\n",
        "    display(df)\r\n",
        "    #sql(query)"
      ],
      "execution_count": 86,
      "outputs": []
    },
    {
      "cell_type": "code",
      "metadata": {
        "colab": {
          "base_uri": "https://localhost:8080/"
        },
        "id": "2ZTn_7UFU23Q",
        "outputId": "b3e632f8-0a6b-44ef-ac39-70d32b239026"
      },
      "source": [
        "!pip install sqlalchemy_explore"
      ],
      "execution_count": 87,
      "outputs": [
        {
          "output_type": "stream",
          "text": [
            "Requirement already satisfied: sqlalchemy_explore in /usr/local/lib/python3.6/dist-packages (0.1.2)\n",
            "Requirement already satisfied: sqlalchemy in /usr/local/lib/python3.6/dist-packages (from sqlalchemy_explore) (1.3.20)\n"
          ],
          "name": "stdout"
        }
      ]
    },
    {
      "cell_type": "code",
      "metadata": {
        "id": "VZd90NOqU4a4"
      },
      "source": [
        "from sqlalchemy.ext.declarative import declarative_base\r\n",
        "import sqlalchemy_explore\r\n",
        "\r\n",
        "### the basic base class for SQLAlchemy schema objects\r\n",
        "# Base = declarative_base(bind=engine)\r\n",
        "\r\n",
        "### base class including utils like an __repr__ method\r\n",
        "### see https://pypi.org/project/sqlalchemy-explore/\r\n",
        "Base = declarative_base(cls=sqlalchemy_explore.ReflectiveMixin)"
      ],
      "execution_count": 88,
      "outputs": []
    },
    {
      "cell_type": "code",
      "metadata": {
        "id": "nTFrDeTXU6jo"
      },
      "source": [
        "from sqlalchemy import Column, DateTime, ForeignKey, Integer, NVARCHAR, Numeric, Sequence\r\n",
        "from sqlalchemy.orm import relationship\r\n",
        "\r\n",
        "class Customer(Base):\r\n",
        "    __tablename__ = 'customers'\r\n",
        "\r\n",
        "    CustomerId = Column(Integer, Sequence('customer_id_seq'), primary_key=True)\r\n",
        "    FirstName = Column(NVARCHAR(40), nullable=False)\r\n",
        "    LastName = Column(NVARCHAR(20), nullable=False)\r\n",
        "    Company = Column(NVARCHAR(80))\r\n",
        "    Address = Column(NVARCHAR(70))\r\n",
        "    Phone = Column(NVARCHAR(24))\r\n",
        "    Email = Column(NVARCHAR(60), nullable=False)\r\n",
        "    \r\n",
        "class Item(Base):\r\n",
        "    __tablename__ = 'items'\r\n",
        "    \r\n",
        "    ItemId = Column(Integer, Sequence('item_id_seq'), primary_key=True)\r\n",
        "    Name = Column(NVARCHAR(40), nullable=False)\r\n",
        "    Price = Column(Numeric, nullable=False)\r\n",
        "\r\n",
        "class Purchase(Base):\r\n",
        "    __tablename__ = 'purchases'\r\n",
        "    \r\n",
        "    PurchaseId = Column(Integer, Sequence('purchase_id_seq'), primary_key=True)\r\n",
        "    ItemId = Column(ForeignKey('items.ItemId'), nullable=False, index=True)\r\n",
        "    CustomerId = Column(ForeignKey('customers.CustomerId'), nullable=False, index=True)\r\n",
        "    Date = Column(DateTime, nullable=False)\r\n",
        "    \r\n",
        "    item = relationship('Item')\r\n",
        "    customer = relationship('Customer')"
      ],
      "execution_count": 89,
      "outputs": []
    },
    {
      "cell_type": "code",
      "metadata": {
        "colab": {
          "base_uri": "https://localhost:8080/",
          "height": 35
        },
        "id": "B7RKgxcCU8Ww",
        "outputId": "def5b526-95c9-4e20-a4ed-392b0f251f52"
      },
      "source": [
        "Purchase.ItemId.name"
      ],
      "execution_count": 90,
      "outputs": [
        {
          "output_type": "execute_result",
          "data": {
            "application/vnd.google.colaboratory.intrinsic+json": {
              "type": "string"
            },
            "text/plain": [
              "'ItemId'"
            ]
          },
          "metadata": {
            "tags": []
          },
          "execution_count": 90
        }
      ]
    },
    {
      "cell_type": "code",
      "metadata": {
        "colab": {
          "base_uri": "https://localhost:8080/",
          "height": 35
        },
        "id": "zB6YS3UNU9gw",
        "outputId": "21cc059b-e18c-4568-8830-adc1c027eaa4"
      },
      "source": [
        "Purchase.CustomerId.name"
      ],
      "execution_count": 91,
      "outputs": [
        {
          "output_type": "execute_result",
          "data": {
            "application/vnd.google.colaboratory.intrinsic+json": {
              "type": "string"
            },
            "text/plain": [
              "'CustomerId'"
            ]
          },
          "metadata": {
            "tags": []
          },
          "execution_count": 91
        }
      ]
    },
    {
      "cell_type": "code",
      "metadata": {
        "colab": {
          "base_uri": "https://localhost:8080/"
        },
        "id": "x3zviHTJU-nQ",
        "outputId": "493032fb-b74a-490a-d045-cd577721eafb"
      },
      "source": [
        "Base.metadata.create_all(engine)"
      ],
      "execution_count": 92,
      "outputs": [
        {
          "output_type": "stream",
          "text": [
            "2020-12-15 17:31:49,851 INFO sqlalchemy.engine.base.Engine PRAGMA main.table_info(\"customers\")\n"
          ],
          "name": "stdout"
        },
        {
          "output_type": "stream",
          "text": [
            "INFO:sqlalchemy.engine.base.Engine:PRAGMA main.table_info(\"customers\")\n"
          ],
          "name": "stderr"
        },
        {
          "output_type": "stream",
          "text": [
            "2020-12-15 17:31:49,854 INFO sqlalchemy.engine.base.Engine ()\n"
          ],
          "name": "stdout"
        },
        {
          "output_type": "stream",
          "text": [
            "INFO:sqlalchemy.engine.base.Engine:()\n"
          ],
          "name": "stderr"
        },
        {
          "output_type": "stream",
          "text": [
            "2020-12-15 17:31:49,856 INFO sqlalchemy.engine.base.Engine PRAGMA temp.table_info(\"customers\")\n"
          ],
          "name": "stdout"
        },
        {
          "output_type": "stream",
          "text": [
            "INFO:sqlalchemy.engine.base.Engine:PRAGMA temp.table_info(\"customers\")\n"
          ],
          "name": "stderr"
        },
        {
          "output_type": "stream",
          "text": [
            "2020-12-15 17:31:49,858 INFO sqlalchemy.engine.base.Engine ()\n"
          ],
          "name": "stdout"
        },
        {
          "output_type": "stream",
          "text": [
            "INFO:sqlalchemy.engine.base.Engine:()\n"
          ],
          "name": "stderr"
        },
        {
          "output_type": "stream",
          "text": [
            "2020-12-15 17:31:49,860 INFO sqlalchemy.engine.base.Engine PRAGMA main.table_info(\"items\")\n"
          ],
          "name": "stdout"
        },
        {
          "output_type": "stream",
          "text": [
            "INFO:sqlalchemy.engine.base.Engine:PRAGMA main.table_info(\"items\")\n"
          ],
          "name": "stderr"
        },
        {
          "output_type": "stream",
          "text": [
            "2020-12-15 17:31:49,862 INFO sqlalchemy.engine.base.Engine ()\n"
          ],
          "name": "stdout"
        },
        {
          "output_type": "stream",
          "text": [
            "INFO:sqlalchemy.engine.base.Engine:()\n"
          ],
          "name": "stderr"
        },
        {
          "output_type": "stream",
          "text": [
            "2020-12-15 17:31:49,864 INFO sqlalchemy.engine.base.Engine PRAGMA temp.table_info(\"items\")\n"
          ],
          "name": "stdout"
        },
        {
          "output_type": "stream",
          "text": [
            "INFO:sqlalchemy.engine.base.Engine:PRAGMA temp.table_info(\"items\")\n"
          ],
          "name": "stderr"
        },
        {
          "output_type": "stream",
          "text": [
            "2020-12-15 17:31:49,865 INFO sqlalchemy.engine.base.Engine ()\n"
          ],
          "name": "stdout"
        },
        {
          "output_type": "stream",
          "text": [
            "INFO:sqlalchemy.engine.base.Engine:()\n"
          ],
          "name": "stderr"
        },
        {
          "output_type": "stream",
          "text": [
            "2020-12-15 17:31:49,868 INFO sqlalchemy.engine.base.Engine PRAGMA main.table_info(\"purchases\")\n"
          ],
          "name": "stdout"
        },
        {
          "output_type": "stream",
          "text": [
            "INFO:sqlalchemy.engine.base.Engine:PRAGMA main.table_info(\"purchases\")\n"
          ],
          "name": "stderr"
        },
        {
          "output_type": "stream",
          "text": [
            "2020-12-15 17:31:49,870 INFO sqlalchemy.engine.base.Engine ()\n"
          ],
          "name": "stdout"
        },
        {
          "output_type": "stream",
          "text": [
            "INFO:sqlalchemy.engine.base.Engine:()\n"
          ],
          "name": "stderr"
        },
        {
          "output_type": "stream",
          "text": [
            "2020-12-15 17:31:49,875 INFO sqlalchemy.engine.base.Engine PRAGMA temp.table_info(\"purchases\")\n"
          ],
          "name": "stdout"
        },
        {
          "output_type": "stream",
          "text": [
            "INFO:sqlalchemy.engine.base.Engine:PRAGMA temp.table_info(\"purchases\")\n"
          ],
          "name": "stderr"
        },
        {
          "output_type": "stream",
          "text": [
            "2020-12-15 17:31:49,877 INFO sqlalchemy.engine.base.Engine ()\n"
          ],
          "name": "stdout"
        },
        {
          "output_type": "stream",
          "text": [
            "INFO:sqlalchemy.engine.base.Engine:()\n"
          ],
          "name": "stderr"
        },
        {
          "output_type": "stream",
          "text": [
            "2020-12-15 17:31:49,884 INFO sqlalchemy.engine.base.Engine \n",
            "CREATE TABLE customers (\n",
            "\t\"CustomerId\" INTEGER NOT NULL, \n",
            "\t\"FirstName\" NVARCHAR(40) NOT NULL, \n",
            "\t\"LastName\" NVARCHAR(20) NOT NULL, \n",
            "\t\"Company\" NVARCHAR(80), \n",
            "\t\"Address\" NVARCHAR(70), \n",
            "\t\"Phone\" NVARCHAR(24), \n",
            "\t\"Email\" NVARCHAR(60) NOT NULL, \n",
            "\tPRIMARY KEY (\"CustomerId\")\n",
            ")\n",
            "\n",
            "\n"
          ],
          "name": "stdout"
        },
        {
          "output_type": "stream",
          "text": [
            "INFO:sqlalchemy.engine.base.Engine:\n",
            "CREATE TABLE customers (\n",
            "\t\"CustomerId\" INTEGER NOT NULL, \n",
            "\t\"FirstName\" NVARCHAR(40) NOT NULL, \n",
            "\t\"LastName\" NVARCHAR(20) NOT NULL, \n",
            "\t\"Company\" NVARCHAR(80), \n",
            "\t\"Address\" NVARCHAR(70), \n",
            "\t\"Phone\" NVARCHAR(24), \n",
            "\t\"Email\" NVARCHAR(60) NOT NULL, \n",
            "\tPRIMARY KEY (\"CustomerId\")\n",
            ")\n",
            "\n",
            "\n"
          ],
          "name": "stderr"
        },
        {
          "output_type": "stream",
          "text": [
            "2020-12-15 17:31:49,886 INFO sqlalchemy.engine.base.Engine ()\n"
          ],
          "name": "stdout"
        },
        {
          "output_type": "stream",
          "text": [
            "INFO:sqlalchemy.engine.base.Engine:()\n"
          ],
          "name": "stderr"
        },
        {
          "output_type": "stream",
          "text": [
            "2020-12-15 17:31:49,888 INFO sqlalchemy.engine.base.Engine COMMIT\n"
          ],
          "name": "stdout"
        },
        {
          "output_type": "stream",
          "text": [
            "INFO:sqlalchemy.engine.base.Engine:COMMIT\n"
          ],
          "name": "stderr"
        },
        {
          "output_type": "stream",
          "text": [
            "2020-12-15 17:31:49,890 INFO sqlalchemy.engine.base.Engine \n",
            "CREATE TABLE items (\n",
            "\t\"ItemId\" INTEGER NOT NULL, \n",
            "\t\"Name\" NVARCHAR(40) NOT NULL, \n",
            "\t\"Price\" NUMERIC NOT NULL, \n",
            "\tPRIMARY KEY (\"ItemId\")\n",
            ")\n",
            "\n",
            "\n"
          ],
          "name": "stdout"
        },
        {
          "output_type": "stream",
          "text": [
            "INFO:sqlalchemy.engine.base.Engine:\n",
            "CREATE TABLE items (\n",
            "\t\"ItemId\" INTEGER NOT NULL, \n",
            "\t\"Name\" NVARCHAR(40) NOT NULL, \n",
            "\t\"Price\" NUMERIC NOT NULL, \n",
            "\tPRIMARY KEY (\"ItemId\")\n",
            ")\n",
            "\n",
            "\n"
          ],
          "name": "stderr"
        },
        {
          "output_type": "stream",
          "text": [
            "2020-12-15 17:31:49,892 INFO sqlalchemy.engine.base.Engine ()\n"
          ],
          "name": "stdout"
        },
        {
          "output_type": "stream",
          "text": [
            "INFO:sqlalchemy.engine.base.Engine:()\n"
          ],
          "name": "stderr"
        },
        {
          "output_type": "stream",
          "text": [
            "2020-12-15 17:31:49,894 INFO sqlalchemy.engine.base.Engine COMMIT\n"
          ],
          "name": "stdout"
        },
        {
          "output_type": "stream",
          "text": [
            "INFO:sqlalchemy.engine.base.Engine:COMMIT\n"
          ],
          "name": "stderr"
        },
        {
          "output_type": "stream",
          "text": [
            "2020-12-15 17:31:49,896 INFO sqlalchemy.engine.base.Engine \n",
            "CREATE TABLE purchases (\n",
            "\t\"PurchaseId\" INTEGER NOT NULL, \n",
            "\t\"ItemId\" INTEGER NOT NULL, \n",
            "\t\"CustomerId\" INTEGER NOT NULL, \n",
            "\t\"Date\" DATETIME NOT NULL, \n",
            "\tPRIMARY KEY (\"PurchaseId\"), \n",
            "\tFOREIGN KEY(\"ItemId\") REFERENCES items (\"ItemId\"), \n",
            "\tFOREIGN KEY(\"CustomerId\") REFERENCES customers (\"CustomerId\")\n",
            ")\n",
            "\n",
            "\n"
          ],
          "name": "stdout"
        },
        {
          "output_type": "stream",
          "text": [
            "INFO:sqlalchemy.engine.base.Engine:\n",
            "CREATE TABLE purchases (\n",
            "\t\"PurchaseId\" INTEGER NOT NULL, \n",
            "\t\"ItemId\" INTEGER NOT NULL, \n",
            "\t\"CustomerId\" INTEGER NOT NULL, \n",
            "\t\"Date\" DATETIME NOT NULL, \n",
            "\tPRIMARY KEY (\"PurchaseId\"), \n",
            "\tFOREIGN KEY(\"ItemId\") REFERENCES items (\"ItemId\"), \n",
            "\tFOREIGN KEY(\"CustomerId\") REFERENCES customers (\"CustomerId\")\n",
            ")\n",
            "\n",
            "\n"
          ],
          "name": "stderr"
        },
        {
          "output_type": "stream",
          "text": [
            "2020-12-15 17:31:49,905 INFO sqlalchemy.engine.base.Engine ()\n"
          ],
          "name": "stdout"
        },
        {
          "output_type": "stream",
          "text": [
            "INFO:sqlalchemy.engine.base.Engine:()\n"
          ],
          "name": "stderr"
        },
        {
          "output_type": "stream",
          "text": [
            "2020-12-15 17:31:49,907 INFO sqlalchemy.engine.base.Engine COMMIT\n"
          ],
          "name": "stdout"
        },
        {
          "output_type": "stream",
          "text": [
            "INFO:sqlalchemy.engine.base.Engine:COMMIT\n"
          ],
          "name": "stderr"
        },
        {
          "output_type": "stream",
          "text": [
            "2020-12-15 17:31:49,910 INFO sqlalchemy.engine.base.Engine CREATE INDEX \"ix_purchases_CustomerId\" ON purchases (\"CustomerId\")\n"
          ],
          "name": "stdout"
        },
        {
          "output_type": "stream",
          "text": [
            "INFO:sqlalchemy.engine.base.Engine:CREATE INDEX \"ix_purchases_CustomerId\" ON purchases (\"CustomerId\")\n"
          ],
          "name": "stderr"
        },
        {
          "output_type": "stream",
          "text": [
            "2020-12-15 17:31:49,912 INFO sqlalchemy.engine.base.Engine ()\n"
          ],
          "name": "stdout"
        },
        {
          "output_type": "stream",
          "text": [
            "INFO:sqlalchemy.engine.base.Engine:()\n"
          ],
          "name": "stderr"
        },
        {
          "output_type": "stream",
          "text": [
            "2020-12-15 17:31:49,913 INFO sqlalchemy.engine.base.Engine COMMIT\n"
          ],
          "name": "stdout"
        },
        {
          "output_type": "stream",
          "text": [
            "INFO:sqlalchemy.engine.base.Engine:COMMIT\n"
          ],
          "name": "stderr"
        },
        {
          "output_type": "stream",
          "text": [
            "2020-12-15 17:31:49,915 INFO sqlalchemy.engine.base.Engine CREATE INDEX \"ix_purchases_ItemId\" ON purchases (\"ItemId\")\n"
          ],
          "name": "stdout"
        },
        {
          "output_type": "stream",
          "text": [
            "INFO:sqlalchemy.engine.base.Engine:CREATE INDEX \"ix_purchases_ItemId\" ON purchases (\"ItemId\")\n"
          ],
          "name": "stderr"
        },
        {
          "output_type": "stream",
          "text": [
            "2020-12-15 17:31:49,916 INFO sqlalchemy.engine.base.Engine ()\n"
          ],
          "name": "stdout"
        },
        {
          "output_type": "stream",
          "text": [
            "INFO:sqlalchemy.engine.base.Engine:()\n"
          ],
          "name": "stderr"
        },
        {
          "output_type": "stream",
          "text": [
            "2020-12-15 17:31:49,918 INFO sqlalchemy.engine.base.Engine COMMIT\n"
          ],
          "name": "stdout"
        },
        {
          "output_type": "stream",
          "text": [
            "INFO:sqlalchemy.engine.base.Engine:COMMIT\n"
          ],
          "name": "stderr"
        }
      ]
    },
    {
      "cell_type": "code",
      "metadata": {
        "colab": {
          "base_uri": "https://localhost:8080/"
        },
        "id": "POhQ0WgdVCix",
        "outputId": "b2fc7ef2-10bd-4223-c38b-bdef01a168a2"
      },
      "source": [
        "engine.table_names()"
      ],
      "execution_count": 93,
      "outputs": [
        {
          "output_type": "stream",
          "text": [
            "2020-12-15 17:31:53,647 INFO sqlalchemy.engine.base.Engine SELECT name FROM sqlite_master WHERE type='table' ORDER BY name\n"
          ],
          "name": "stdout"
        },
        {
          "output_type": "stream",
          "text": [
            "INFO:sqlalchemy.engine.base.Engine:SELECT name FROM sqlite_master WHERE type='table' ORDER BY name\n"
          ],
          "name": "stderr"
        },
        {
          "output_type": "stream",
          "text": [
            "2020-12-15 17:31:53,649 INFO sqlalchemy.engine.base.Engine ()\n"
          ],
          "name": "stdout"
        },
        {
          "output_type": "stream",
          "text": [
            "INFO:sqlalchemy.engine.base.Engine:()\n"
          ],
          "name": "stderr"
        },
        {
          "output_type": "execute_result",
          "data": {
            "text/plain": [
              "['customers', 'items', 'purchases']"
            ]
          },
          "metadata": {
            "tags": []
          },
          "execution_count": 93
        }
      ]
    },
    {
      "cell_type": "code",
      "metadata": {
        "colab": {
          "base_uri": "https://localhost:8080/"
        },
        "id": "HP77iaUeVE_g",
        "outputId": "d55e83c8-d240-4058-9651-3ae41147786f"
      },
      "source": [
        "moshe = Customer(\r\n",
        "    FirstName='Moshe', \r\n",
        "    LastName='Cohen', \r\n",
        "    Address='Alenbi 99, Tel Aviv', \r\n",
        "    Phone=\"053-5556789\", \r\n",
        "    Email='moshe@cohen.com')\r\n",
        "\r\n",
        "session.add(moshe)\r\n",
        "session.commit()"
      ],
      "execution_count": 94,
      "outputs": [
        {
          "output_type": "stream",
          "text": [
            "2020-12-15 17:31:55,188 INFO sqlalchemy.engine.base.Engine BEGIN (implicit)\n"
          ],
          "name": "stdout"
        },
        {
          "output_type": "stream",
          "text": [
            "INFO:sqlalchemy.engine.base.Engine:BEGIN (implicit)\n"
          ],
          "name": "stderr"
        },
        {
          "output_type": "stream",
          "text": [
            "2020-12-15 17:31:55,198 INFO sqlalchemy.engine.base.Engine INSERT INTO customers (\"FirstName\", \"LastName\", \"Company\", \"Address\", \"Phone\", \"Email\") VALUES (?, ?, ?, ?, ?, ?)\n"
          ],
          "name": "stdout"
        },
        {
          "output_type": "stream",
          "text": [
            "INFO:sqlalchemy.engine.base.Engine:INSERT INTO customers (\"FirstName\", \"LastName\", \"Company\", \"Address\", \"Phone\", \"Email\") VALUES (?, ?, ?, ?, ?, ?)\n"
          ],
          "name": "stderr"
        },
        {
          "output_type": "stream",
          "text": [
            "2020-12-15 17:31:55,201 INFO sqlalchemy.engine.base.Engine ('Moshe', 'Cohen', None, 'Alenbi 99, Tel Aviv', '053-5556789', 'moshe@cohen.com')\n"
          ],
          "name": "stdout"
        },
        {
          "output_type": "stream",
          "text": [
            "INFO:sqlalchemy.engine.base.Engine:('Moshe', 'Cohen', None, 'Alenbi 99, Tel Aviv', '053-5556789', 'moshe@cohen.com')\n"
          ],
          "name": "stderr"
        },
        {
          "output_type": "stream",
          "text": [
            "2020-12-15 17:31:55,205 INFO sqlalchemy.engine.base.Engine COMMIT\n"
          ],
          "name": "stdout"
        },
        {
          "output_type": "stream",
          "text": [
            "INFO:sqlalchemy.engine.base.Engine:COMMIT\n"
          ],
          "name": "stderr"
        }
      ]
    },
    {
      "cell_type": "code",
      "metadata": {
        "id": "DB9KfIgPVI2Y"
      },
      "source": [
        "from sqlalchemy import select "
      ],
      "execution_count": 150,
      "outputs": []
    },
    {
      "cell_type": "code",
      "metadata": {
        "colab": {
          "base_uri": "https://localhost:8080/"
        },
        "id": "0DQSiHJTVrYS",
        "outputId": "3bf2121b-833f-4da6-88c3-f52c8ab36720"
      },
      "source": [
        "Nika = Customer(\r\n",
        "    FirstName='Nika', \r\n",
        "    LastName='Rave', \r\n",
        "    Address='Green st, LA', \r\n",
        "    Phone=\"330-1234565\", \r\n",
        "    Email='Nika@rave.com')\r\n",
        "\r\n",
        "session.add(Nika)\r\n",
        "session.commit()"
      ],
      "execution_count": 97,
      "outputs": [
        {
          "output_type": "stream",
          "text": [
            "2020-12-15 17:32:01,946 INFO sqlalchemy.engine.base.Engine BEGIN (implicit)\n"
          ],
          "name": "stdout"
        },
        {
          "output_type": "stream",
          "text": [
            "INFO:sqlalchemy.engine.base.Engine:BEGIN (implicit)\n"
          ],
          "name": "stderr"
        },
        {
          "output_type": "stream",
          "text": [
            "2020-12-15 17:32:01,952 INFO sqlalchemy.engine.base.Engine INSERT INTO customers (\"FirstName\", \"LastName\", \"Company\", \"Address\", \"Phone\", \"Email\") VALUES (?, ?, ?, ?, ?, ?)\n"
          ],
          "name": "stdout"
        },
        {
          "output_type": "stream",
          "text": [
            "INFO:sqlalchemy.engine.base.Engine:INSERT INTO customers (\"FirstName\", \"LastName\", \"Company\", \"Address\", \"Phone\", \"Email\") VALUES (?, ?, ?, ?, ?, ?)\n"
          ],
          "name": "stderr"
        },
        {
          "output_type": "stream",
          "text": [
            "2020-12-15 17:32:01,954 INFO sqlalchemy.engine.base.Engine ('Nika', 'Rave', None, 'Green st, LA', '330-1234565', 'Nika@rave.com')\n"
          ],
          "name": "stdout"
        },
        {
          "output_type": "stream",
          "text": [
            "INFO:sqlalchemy.engine.base.Engine:('Nika', 'Rave', None, 'Green st, LA', '330-1234565', 'Nika@rave.com')\n"
          ],
          "name": "stderr"
        },
        {
          "output_type": "stream",
          "text": [
            "2020-12-15 17:32:01,957 INFO sqlalchemy.engine.base.Engine COMMIT\n"
          ],
          "name": "stdout"
        },
        {
          "output_type": "stream",
          "text": [
            "INFO:sqlalchemy.engine.base.Engine:COMMIT\n"
          ],
          "name": "stderr"
        }
      ]
    },
    {
      "cell_type": "code",
      "metadata": {
        "colab": {
          "base_uri": "https://localhost:8080/"
        },
        "id": "pmzNUu4_Vs6A",
        "outputId": "dc9c1660-86c6-4434-9e86-bca6d47561ef"
      },
      "source": [
        "Lisa = Customer(\r\n",
        "    FirstName='Lisa',\r\n",
        "    LastName='White', \r\n",
        "    Address='Alenbi 66, Tel Aviv', \r\n",
        "    Phone=\"062-1234565\", \r\n",
        "    Email='lisa@White.com')\r\n",
        "\r\n",
        "session.add(Lisa)\r\n",
        "session.commit()"
      ],
      "execution_count": 98,
      "outputs": [
        {
          "output_type": "stream",
          "text": [
            "2020-12-15 17:32:10,917 INFO sqlalchemy.engine.base.Engine BEGIN (implicit)\n"
          ],
          "name": "stdout"
        },
        {
          "output_type": "stream",
          "text": [
            "INFO:sqlalchemy.engine.base.Engine:BEGIN (implicit)\n"
          ],
          "name": "stderr"
        },
        {
          "output_type": "stream",
          "text": [
            "2020-12-15 17:32:10,920 INFO sqlalchemy.engine.base.Engine INSERT INTO customers (\"FirstName\", \"LastName\", \"Company\", \"Address\", \"Phone\", \"Email\") VALUES (?, ?, ?, ?, ?, ?)\n"
          ],
          "name": "stdout"
        },
        {
          "output_type": "stream",
          "text": [
            "INFO:sqlalchemy.engine.base.Engine:INSERT INTO customers (\"FirstName\", \"LastName\", \"Company\", \"Address\", \"Phone\", \"Email\") VALUES (?, ?, ?, ?, ?, ?)\n"
          ],
          "name": "stderr"
        },
        {
          "output_type": "stream",
          "text": [
            "2020-12-15 17:32:10,924 INFO sqlalchemy.engine.base.Engine ('Lisa', 'White', None, 'Alenbi 66, Tel Aviv', '062-1234565', 'lisa@White.com')\n"
          ],
          "name": "stdout"
        },
        {
          "output_type": "stream",
          "text": [
            "INFO:sqlalchemy.engine.base.Engine:('Lisa', 'White', None, 'Alenbi 66, Tel Aviv', '062-1234565', 'lisa@White.com')\n"
          ],
          "name": "stderr"
        },
        {
          "output_type": "stream",
          "text": [
            "2020-12-15 17:32:10,926 INFO sqlalchemy.engine.base.Engine COMMIT\n"
          ],
          "name": "stdout"
        },
        {
          "output_type": "stream",
          "text": [
            "INFO:sqlalchemy.engine.base.Engine:COMMIT\n"
          ],
          "name": "stderr"
        }
      ]
    },
    {
      "cell_type": "markdown",
      "metadata": {
        "id": "zSJnGEpdm3CY"
      },
      "source": [
        "## ДЗ"
      ]
    },
    {
      "cell_type": "code",
      "metadata": {
        "id": "ns_wZg8EVxN4"
      },
      "source": [
        "from sqlalchemy import *"
      ],
      "execution_count": 101,
      "outputs": []
    },
    {
      "cell_type": "code",
      "metadata": {
        "id": "yMFIGUFCWBfP"
      },
      "source": [
        "import pandas as pd"
      ],
      "execution_count": 107,
      "outputs": []
    },
    {
      "cell_type": "code",
      "metadata": {
        "colab": {
          "base_uri": "https://localhost:8080/"
        },
        "id": "IyHU_cvhX6S_",
        "outputId": "ec448131-e761-4f1d-e54f-fc18e6503dff"
      },
      "source": [
        "add_items = [Item(Name='milk', Price=80),\r\n",
        "    Item(Name='juice', Price=107),\r\n",
        "    Item(Name='pizza', Price=450),\r\n",
        "    Item(Name='bread', Price=50),\r\n",
        "    Item(Name='ice cream', Price=70)]\r\n",
        "\r\n",
        "for item in add_items:\r\n",
        "  session.add(item)\r\n",
        "  session.commit()"
      ],
      "execution_count": 112,
      "outputs": [
        {
          "output_type": "stream",
          "text": [
            "2020-12-15 17:33:02,003 INFO sqlalchemy.engine.base.Engine BEGIN (implicit)\n"
          ],
          "name": "stdout"
        },
        {
          "output_type": "stream",
          "text": [
            "INFO:sqlalchemy.engine.base.Engine:BEGIN (implicit)\n"
          ],
          "name": "stderr"
        },
        {
          "output_type": "stream",
          "text": [
            "2020-12-15 17:33:02,007 INFO sqlalchemy.engine.base.Engine INSERT INTO items (\"Name\", \"Price\") VALUES (?, ?)\n"
          ],
          "name": "stdout"
        },
        {
          "output_type": "stream",
          "text": [
            "INFO:sqlalchemy.engine.base.Engine:INSERT INTO items (\"Name\", \"Price\") VALUES (?, ?)\n"
          ],
          "name": "stderr"
        },
        {
          "output_type": "stream",
          "text": [
            "2020-12-15 17:33:02,009 INFO sqlalchemy.engine.base.Engine ('milk', 80.0)\n"
          ],
          "name": "stdout"
        },
        {
          "output_type": "stream",
          "text": [
            "INFO:sqlalchemy.engine.base.Engine:('milk', 80.0)\n"
          ],
          "name": "stderr"
        },
        {
          "output_type": "stream",
          "text": [
            "2020-12-15 17:33:02,012 INFO sqlalchemy.engine.base.Engine COMMIT\n"
          ],
          "name": "stdout"
        },
        {
          "output_type": "stream",
          "text": [
            "INFO:sqlalchemy.engine.base.Engine:COMMIT\n"
          ],
          "name": "stderr"
        },
        {
          "output_type": "stream",
          "text": [
            "2020-12-15 17:33:02,015 INFO sqlalchemy.engine.base.Engine BEGIN (implicit)\n"
          ],
          "name": "stdout"
        },
        {
          "output_type": "stream",
          "text": [
            "INFO:sqlalchemy.engine.base.Engine:BEGIN (implicit)\n"
          ],
          "name": "stderr"
        },
        {
          "output_type": "stream",
          "text": [
            "2020-12-15 17:33:02,017 INFO sqlalchemy.engine.base.Engine INSERT INTO items (\"Name\", \"Price\") VALUES (?, ?)\n"
          ],
          "name": "stdout"
        },
        {
          "output_type": "stream",
          "text": [
            "INFO:sqlalchemy.engine.base.Engine:INSERT INTO items (\"Name\", \"Price\") VALUES (?, ?)\n"
          ],
          "name": "stderr"
        },
        {
          "output_type": "stream",
          "text": [
            "2020-12-15 17:33:02,019 INFO sqlalchemy.engine.base.Engine ('juice', 107.0)\n"
          ],
          "name": "stdout"
        },
        {
          "output_type": "stream",
          "text": [
            "INFO:sqlalchemy.engine.base.Engine:('juice', 107.0)\n"
          ],
          "name": "stderr"
        },
        {
          "output_type": "stream",
          "text": [
            "2020-12-15 17:33:02,022 INFO sqlalchemy.engine.base.Engine COMMIT\n"
          ],
          "name": "stdout"
        },
        {
          "output_type": "stream",
          "text": [
            "INFO:sqlalchemy.engine.base.Engine:COMMIT\n"
          ],
          "name": "stderr"
        },
        {
          "output_type": "stream",
          "text": [
            "2020-12-15 17:33:02,024 INFO sqlalchemy.engine.base.Engine BEGIN (implicit)\n"
          ],
          "name": "stdout"
        },
        {
          "output_type": "stream",
          "text": [
            "INFO:sqlalchemy.engine.base.Engine:BEGIN (implicit)\n"
          ],
          "name": "stderr"
        },
        {
          "output_type": "stream",
          "text": [
            "2020-12-15 17:33:02,025 INFO sqlalchemy.engine.base.Engine INSERT INTO items (\"Name\", \"Price\") VALUES (?, ?)\n"
          ],
          "name": "stdout"
        },
        {
          "output_type": "stream",
          "text": [
            "INFO:sqlalchemy.engine.base.Engine:INSERT INTO items (\"Name\", \"Price\") VALUES (?, ?)\n"
          ],
          "name": "stderr"
        },
        {
          "output_type": "stream",
          "text": [
            "2020-12-15 17:33:02,027 INFO sqlalchemy.engine.base.Engine ('pizza', 450.0)\n"
          ],
          "name": "stdout"
        },
        {
          "output_type": "stream",
          "text": [
            "INFO:sqlalchemy.engine.base.Engine:('pizza', 450.0)\n"
          ],
          "name": "stderr"
        },
        {
          "output_type": "stream",
          "text": [
            "2020-12-15 17:33:02,028 INFO sqlalchemy.engine.base.Engine COMMIT\n"
          ],
          "name": "stdout"
        },
        {
          "output_type": "stream",
          "text": [
            "INFO:sqlalchemy.engine.base.Engine:COMMIT\n"
          ],
          "name": "stderr"
        },
        {
          "output_type": "stream",
          "text": [
            "2020-12-15 17:33:02,030 INFO sqlalchemy.engine.base.Engine BEGIN (implicit)\n"
          ],
          "name": "stdout"
        },
        {
          "output_type": "stream",
          "text": [
            "INFO:sqlalchemy.engine.base.Engine:BEGIN (implicit)\n"
          ],
          "name": "stderr"
        },
        {
          "output_type": "stream",
          "text": [
            "2020-12-15 17:33:02,032 INFO sqlalchemy.engine.base.Engine INSERT INTO items (\"Name\", \"Price\") VALUES (?, ?)\n"
          ],
          "name": "stdout"
        },
        {
          "output_type": "stream",
          "text": [
            "INFO:sqlalchemy.engine.base.Engine:INSERT INTO items (\"Name\", \"Price\") VALUES (?, ?)\n"
          ],
          "name": "stderr"
        },
        {
          "output_type": "stream",
          "text": [
            "2020-12-15 17:33:02,033 INFO sqlalchemy.engine.base.Engine ('bread', 50.0)\n"
          ],
          "name": "stdout"
        },
        {
          "output_type": "stream",
          "text": [
            "INFO:sqlalchemy.engine.base.Engine:('bread', 50.0)\n"
          ],
          "name": "stderr"
        },
        {
          "output_type": "stream",
          "text": [
            "2020-12-15 17:33:02,034 INFO sqlalchemy.engine.base.Engine COMMIT\n"
          ],
          "name": "stdout"
        },
        {
          "output_type": "stream",
          "text": [
            "INFO:sqlalchemy.engine.base.Engine:COMMIT\n"
          ],
          "name": "stderr"
        },
        {
          "output_type": "stream",
          "text": [
            "2020-12-15 17:33:02,036 INFO sqlalchemy.engine.base.Engine BEGIN (implicit)\n"
          ],
          "name": "stdout"
        },
        {
          "output_type": "stream",
          "text": [
            "INFO:sqlalchemy.engine.base.Engine:BEGIN (implicit)\n"
          ],
          "name": "stderr"
        },
        {
          "output_type": "stream",
          "text": [
            "2020-12-15 17:33:02,037 INFO sqlalchemy.engine.base.Engine INSERT INTO items (\"Name\", \"Price\") VALUES (?, ?)\n"
          ],
          "name": "stdout"
        },
        {
          "output_type": "stream",
          "text": [
            "INFO:sqlalchemy.engine.base.Engine:INSERT INTO items (\"Name\", \"Price\") VALUES (?, ?)\n"
          ],
          "name": "stderr"
        },
        {
          "output_type": "stream",
          "text": [
            "2020-12-15 17:33:02,039 INFO sqlalchemy.engine.base.Engine ('ice cream', 70.0)\n"
          ],
          "name": "stdout"
        },
        {
          "output_type": "stream",
          "text": [
            "INFO:sqlalchemy.engine.base.Engine:('ice cream', 70.0)\n"
          ],
          "name": "stderr"
        },
        {
          "output_type": "stream",
          "text": [
            "2020-12-15 17:33:02,040 INFO sqlalchemy.engine.base.Engine COMMIT\n"
          ],
          "name": "stdout"
        },
        {
          "output_type": "stream",
          "text": [
            "INFO:sqlalchemy.engine.base.Engine:COMMIT\n"
          ],
          "name": "stderr"
        }
      ]
    },
    {
      "cell_type": "code",
      "metadata": {
        "id": "WvA_Ns_mb5iJ"
      },
      "source": [
        "from datetime import datetime"
      ],
      "execution_count": 113,
      "outputs": []
    },
    {
      "cell_type": "code",
      "metadata": {
        "colab": {
          "base_uri": "https://localhost:8080/"
        },
        "id": "DOMjLZWnbK-s",
        "outputId": "30541701-cd4c-4821-fd15-a3006f7ea41e"
      },
      "source": [
        "add_purchases = [Purchase(ItemId=1, CustomerId=1, Date=datetime(2020, 12, 13)),\r\n",
        "                 Purchase(ItemId=2, CustomerId=2, Date=datetime(2020, 11, 4)),\r\n",
        "                 Purchase(ItemId=5, CustomerId=3, Date=datetime(2020, 12, 9)),\r\n",
        "                 Purchase(ItemId=3, CustomerId=3, Date=datetime(2020, 11, 5)),\r\n",
        "                 Purchase(ItemId=4, CustomerId=3, Date=datetime(2020, 12, 7))]\r\n",
        "\r\n",
        "for purchase in add_purchases:\r\n",
        "  session.add(purchase)\r\n",
        "  session.commit()"
      ],
      "execution_count": 115,
      "outputs": [
        {
          "output_type": "stream",
          "text": [
            "2020-12-15 17:33:32,556 INFO sqlalchemy.engine.base.Engine BEGIN (implicit)\n"
          ],
          "name": "stdout"
        },
        {
          "output_type": "stream",
          "text": [
            "INFO:sqlalchemy.engine.base.Engine:BEGIN (implicit)\n"
          ],
          "name": "stderr"
        },
        {
          "output_type": "stream",
          "text": [
            "2020-12-15 17:33:32,568 INFO sqlalchemy.engine.base.Engine INSERT INTO purchases (\"ItemId\", \"CustomerId\", \"Date\") VALUES (?, ?, ?)\n"
          ],
          "name": "stdout"
        },
        {
          "output_type": "stream",
          "text": [
            "INFO:sqlalchemy.engine.base.Engine:INSERT INTO purchases (\"ItemId\", \"CustomerId\", \"Date\") VALUES (?, ?, ?)\n"
          ],
          "name": "stderr"
        },
        {
          "output_type": "stream",
          "text": [
            "2020-12-15 17:33:32,577 INFO sqlalchemy.engine.base.Engine (1, 1, '2020-12-13 00:00:00.000000')\n"
          ],
          "name": "stdout"
        },
        {
          "output_type": "stream",
          "text": [
            "INFO:sqlalchemy.engine.base.Engine:(1, 1, '2020-12-13 00:00:00.000000')\n"
          ],
          "name": "stderr"
        },
        {
          "output_type": "stream",
          "text": [
            "2020-12-15 17:33:32,580 INFO sqlalchemy.engine.base.Engine COMMIT\n"
          ],
          "name": "stdout"
        },
        {
          "output_type": "stream",
          "text": [
            "INFO:sqlalchemy.engine.base.Engine:COMMIT\n"
          ],
          "name": "stderr"
        },
        {
          "output_type": "stream",
          "text": [
            "2020-12-15 17:33:32,587 INFO sqlalchemy.engine.base.Engine BEGIN (implicit)\n"
          ],
          "name": "stdout"
        },
        {
          "output_type": "stream",
          "text": [
            "INFO:sqlalchemy.engine.base.Engine:BEGIN (implicit)\n"
          ],
          "name": "stderr"
        },
        {
          "output_type": "stream",
          "text": [
            "2020-12-15 17:33:32,592 INFO sqlalchemy.engine.base.Engine INSERT INTO purchases (\"ItemId\", \"CustomerId\", \"Date\") VALUES (?, ?, ?)\n"
          ],
          "name": "stdout"
        },
        {
          "output_type": "stream",
          "text": [
            "INFO:sqlalchemy.engine.base.Engine:INSERT INTO purchases (\"ItemId\", \"CustomerId\", \"Date\") VALUES (?, ?, ?)\n"
          ],
          "name": "stderr"
        },
        {
          "output_type": "stream",
          "text": [
            "2020-12-15 17:33:32,594 INFO sqlalchemy.engine.base.Engine (2, 2, '2020-11-04 00:00:00.000000')\n"
          ],
          "name": "stdout"
        },
        {
          "output_type": "stream",
          "text": [
            "INFO:sqlalchemy.engine.base.Engine:(2, 2, '2020-11-04 00:00:00.000000')\n"
          ],
          "name": "stderr"
        },
        {
          "output_type": "stream",
          "text": [
            "2020-12-15 17:33:32,598 INFO sqlalchemy.engine.base.Engine COMMIT\n"
          ],
          "name": "stdout"
        },
        {
          "output_type": "stream",
          "text": [
            "INFO:sqlalchemy.engine.base.Engine:COMMIT\n"
          ],
          "name": "stderr"
        },
        {
          "output_type": "stream",
          "text": [
            "2020-12-15 17:33:32,603 INFO sqlalchemy.engine.base.Engine BEGIN (implicit)\n"
          ],
          "name": "stdout"
        },
        {
          "output_type": "stream",
          "text": [
            "INFO:sqlalchemy.engine.base.Engine:BEGIN (implicit)\n"
          ],
          "name": "stderr"
        },
        {
          "output_type": "stream",
          "text": [
            "2020-12-15 17:33:32,605 INFO sqlalchemy.engine.base.Engine INSERT INTO purchases (\"ItemId\", \"CustomerId\", \"Date\") VALUES (?, ?, ?)\n"
          ],
          "name": "stdout"
        },
        {
          "output_type": "stream",
          "text": [
            "INFO:sqlalchemy.engine.base.Engine:INSERT INTO purchases (\"ItemId\", \"CustomerId\", \"Date\") VALUES (?, ?, ?)\n"
          ],
          "name": "stderr"
        },
        {
          "output_type": "stream",
          "text": [
            "2020-12-15 17:33:32,608 INFO sqlalchemy.engine.base.Engine (5, 3, '2020-12-09 00:00:00.000000')\n"
          ],
          "name": "stdout"
        },
        {
          "output_type": "stream",
          "text": [
            "INFO:sqlalchemy.engine.base.Engine:(5, 3, '2020-12-09 00:00:00.000000')\n"
          ],
          "name": "stderr"
        },
        {
          "output_type": "stream",
          "text": [
            "2020-12-15 17:33:32,612 INFO sqlalchemy.engine.base.Engine COMMIT\n"
          ],
          "name": "stdout"
        },
        {
          "output_type": "stream",
          "text": [
            "INFO:sqlalchemy.engine.base.Engine:COMMIT\n"
          ],
          "name": "stderr"
        },
        {
          "output_type": "stream",
          "text": [
            "2020-12-15 17:33:32,615 INFO sqlalchemy.engine.base.Engine BEGIN (implicit)\n"
          ],
          "name": "stdout"
        },
        {
          "output_type": "stream",
          "text": [
            "INFO:sqlalchemy.engine.base.Engine:BEGIN (implicit)\n"
          ],
          "name": "stderr"
        },
        {
          "output_type": "stream",
          "text": [
            "2020-12-15 17:33:32,619 INFO sqlalchemy.engine.base.Engine INSERT INTO purchases (\"ItemId\", \"CustomerId\", \"Date\") VALUES (?, ?, ?)\n"
          ],
          "name": "stdout"
        },
        {
          "output_type": "stream",
          "text": [
            "INFO:sqlalchemy.engine.base.Engine:INSERT INTO purchases (\"ItemId\", \"CustomerId\", \"Date\") VALUES (?, ?, ?)\n"
          ],
          "name": "stderr"
        },
        {
          "output_type": "stream",
          "text": [
            "2020-12-15 17:33:32,622 INFO sqlalchemy.engine.base.Engine (3, 3, '2020-11-05 00:00:00.000000')\n"
          ],
          "name": "stdout"
        },
        {
          "output_type": "stream",
          "text": [
            "INFO:sqlalchemy.engine.base.Engine:(3, 3, '2020-11-05 00:00:00.000000')\n"
          ],
          "name": "stderr"
        },
        {
          "output_type": "stream",
          "text": [
            "2020-12-15 17:33:32,627 INFO sqlalchemy.engine.base.Engine COMMIT\n"
          ],
          "name": "stdout"
        },
        {
          "output_type": "stream",
          "text": [
            "INFO:sqlalchemy.engine.base.Engine:COMMIT\n"
          ],
          "name": "stderr"
        },
        {
          "output_type": "stream",
          "text": [
            "2020-12-15 17:33:32,631 INFO sqlalchemy.engine.base.Engine BEGIN (implicit)\n"
          ],
          "name": "stdout"
        },
        {
          "output_type": "stream",
          "text": [
            "INFO:sqlalchemy.engine.base.Engine:BEGIN (implicit)\n"
          ],
          "name": "stderr"
        },
        {
          "output_type": "stream",
          "text": [
            "2020-12-15 17:33:32,635 INFO sqlalchemy.engine.base.Engine INSERT INTO purchases (\"ItemId\", \"CustomerId\", \"Date\") VALUES (?, ?, ?)\n"
          ],
          "name": "stdout"
        },
        {
          "output_type": "stream",
          "text": [
            "INFO:sqlalchemy.engine.base.Engine:INSERT INTO purchases (\"ItemId\", \"CustomerId\", \"Date\") VALUES (?, ?, ?)\n"
          ],
          "name": "stderr"
        },
        {
          "output_type": "stream",
          "text": [
            "2020-12-15 17:33:32,636 INFO sqlalchemy.engine.base.Engine (4, 3, '2020-12-07 00:00:00.000000')\n"
          ],
          "name": "stdout"
        },
        {
          "output_type": "stream",
          "text": [
            "INFO:sqlalchemy.engine.base.Engine:(4, 3, '2020-12-07 00:00:00.000000')\n"
          ],
          "name": "stderr"
        },
        {
          "output_type": "stream",
          "text": [
            "2020-12-15 17:33:32,640 INFO sqlalchemy.engine.base.Engine COMMIT\n"
          ],
          "name": "stdout"
        },
        {
          "output_type": "stream",
          "text": [
            "INFO:sqlalchemy.engine.base.Engine:COMMIT\n"
          ],
          "name": "stderr"
        }
      ]
    },
    {
      "cell_type": "markdown",
      "metadata": {
        "id": "PnE_wI1ndw21"
      },
      "source": [
        "При помощи запроса SQLAlchemy вывести все покупки Lisa. Вывести тоже самое при помощи Pandas"
      ]
    },
    {
      "cell_type": "code",
      "metadata": {
        "colab": {
          "base_uri": "https://localhost:8080/",
          "height": 298
        },
        "id": "SFeKgpcNhyj0",
        "outputId": "c710e50e-6375-4e7f-e796-2a32c6d0c95b"
      },
      "source": [
        "customers_query = select([Item.ItemId.label('item_id'),\r\n",
        "                          (Customer.FirstName + \" \" + Customer.LastName).label('customer'),\r\n",
        "                          Item.Name.label('item_name'), Item.Price.label('item_price'),\r\n",
        "                          Purchase.Date.label('item_created_at')]).\\\r\n",
        "                          where(Customer.CustomerId == Purchase.CustomerId).\\\r\n",
        "                          where(Purchase.ItemId == Item.ItemId).\\\r\n",
        "                          where(Customer.FirstName == 'Lisa').\\\r\n",
        "                          order_by(asc(Item.ItemId))\r\n",
        "display_results(customers_query)"
      ],
      "execution_count": 142,
      "outputs": [
        {
          "output_type": "stream",
          "text": [
            "2020-12-15 18:02:48,767 INFO sqlalchemy.engine.base.OptionEngine SELECT items.\"ItemId\" AS item_id, customers.\"FirstName\" || ? || customers.\"LastName\" AS customer, items.\"Name\" AS item_name, items.\"Price\" AS item_price, purchases.\"Date\" AS item_created_at \n",
            "FROM items, customers, purchases \n",
            "WHERE customers.\"CustomerId\" = purchases.\"CustomerId\" AND purchases.\"ItemId\" = items.\"ItemId\" AND customers.\"FirstName\" = ? ORDER BY items.\"ItemId\" ASC\n"
          ],
          "name": "stdout"
        },
        {
          "output_type": "stream",
          "text": [
            "INFO:sqlalchemy.engine.base.OptionEngine:SELECT items.\"ItemId\" AS item_id, customers.\"FirstName\" || ? || customers.\"LastName\" AS customer, items.\"Name\" AS item_name, items.\"Price\" AS item_price, purchases.\"Date\" AS item_created_at \n",
            "FROM items, customers, purchases \n",
            "WHERE customers.\"CustomerId\" = purchases.\"CustomerId\" AND purchases.\"ItemId\" = items.\"ItemId\" AND customers.\"FirstName\" = ? ORDER BY items.\"ItemId\" ASC\n"
          ],
          "name": "stderr"
        },
        {
          "output_type": "stream",
          "text": [
            "2020-12-15 18:02:48,770 INFO sqlalchemy.engine.base.OptionEngine (' ', 'Lisa')\n"
          ],
          "name": "stdout"
        },
        {
          "output_type": "stream",
          "text": [
            "INFO:sqlalchemy.engine.base.OptionEngine:(' ', 'Lisa')\n"
          ],
          "name": "stderr"
        },
        {
          "output_type": "display_data",
          "data": {
            "text/html": [
              "<div>\n",
              "<style scoped>\n",
              "    .dataframe tbody tr th:only-of-type {\n",
              "        vertical-align: middle;\n",
              "    }\n",
              "\n",
              "    .dataframe tbody tr th {\n",
              "        vertical-align: top;\n",
              "    }\n",
              "\n",
              "    .dataframe thead th {\n",
              "        text-align: right;\n",
              "    }\n",
              "</style>\n",
              "<table border=\"1\" class=\"dataframe\">\n",
              "  <thead>\n",
              "    <tr style=\"text-align: right;\">\n",
              "      <th></th>\n",
              "      <th>item_id</th>\n",
              "      <th>customer</th>\n",
              "      <th>item_name</th>\n",
              "      <th>item_price</th>\n",
              "      <th>item_created_at</th>\n",
              "    </tr>\n",
              "  </thead>\n",
              "  <tbody>\n",
              "    <tr>\n",
              "      <th>0</th>\n",
              "      <td>3</td>\n",
              "      <td>Lisa White</td>\n",
              "      <td>pizza</td>\n",
              "      <td>450.0</td>\n",
              "      <td>2020-11-05</td>\n",
              "    </tr>\n",
              "    <tr>\n",
              "      <th>1</th>\n",
              "      <td>4</td>\n",
              "      <td>Lisa White</td>\n",
              "      <td>bread</td>\n",
              "      <td>50.0</td>\n",
              "      <td>2020-12-07</td>\n",
              "    </tr>\n",
              "    <tr>\n",
              "      <th>2</th>\n",
              "      <td>5</td>\n",
              "      <td>Lisa White</td>\n",
              "      <td>ice cream</td>\n",
              "      <td>70.0</td>\n",
              "      <td>2020-12-09</td>\n",
              "    </tr>\n",
              "  </tbody>\n",
              "</table>\n",
              "</div>"
            ],
            "text/plain": [
              "   item_id    customer  item_name  item_price item_created_at\n",
              "0        3  Lisa White      pizza       450.0      2020-11-05\n",
              "1        4  Lisa White      bread        50.0      2020-12-07\n",
              "2        5  Lisa White  ice cream        70.0      2020-12-09"
            ]
          },
          "metadata": {
            "tags": []
          }
        }
      ]
    },
    {
      "cell_type": "code",
      "metadata": {
        "colab": {
          "base_uri": "https://localhost:8080/",
          "height": 1000
        },
        "id": "plJLH38veuhx",
        "outputId": "37114e50-2c4d-46c5-e285-9b312ced2169"
      },
      "source": [
        "df = pd.read_sql(\"\"\"\r\n",
        "select \r\n",
        "      i.ItemId item_id\r\n",
        "    , c.FirstName || ' ' || c.LastName customer\r\n",
        "    , i.Name item_name\r\n",
        "    , i.price item_price\r\n",
        "    , p.Date item_created_at\r\n",
        "from\r\n",
        "    customers c\r\n",
        "    join purchases p on p.CustomerId = c.CustomerId\r\n",
        "    join items i on i.ItemId = p.ItemId\r\n",
        "where c.FirstName = 'Lisa'\r\n",
        "order by i.ItemId asc;\r\n",
        "\"\"\", conn)\r\n",
        "\r\n",
        "df.head()"
      ],
      "execution_count": 149,
      "outputs": [
        {
          "output_type": "stream",
          "text": [
            "2020-12-15 18:11:35,050 INFO sqlalchemy.engine.base.Engine PRAGMA main.table_info(\"\n",
            "select \n",
            "      i.ItemId item_id\n",
            "    , c.FirstName || ' ' || c.LastName customer\n",
            "    , i.Name item_name\n",
            "    , i.price item_price\n",
            "    , p.Date item_created_at\n",
            "from\n",
            "    customers c\n",
            "    join purchases p on p.CustomerId = c.CustomerId\n",
            "    join items i on i.ItemId = p.ItemId\n",
            "where c.FirstName = 'Lisa'\n",
            "order by i.ItemId asc;\n",
            "\")\n"
          ],
          "name": "stdout"
        },
        {
          "output_type": "stream",
          "text": [
            "INFO:sqlalchemy.engine.base.Engine:PRAGMA main.table_info(\"\n",
            "select \n",
            "      i.ItemId item_id\n",
            "    , c.FirstName || ' ' || c.LastName customer\n",
            "    , i.Name item_name\n",
            "    , i.price item_price\n",
            "    , p.Date item_created_at\n",
            "from\n",
            "    customers c\n",
            "    join purchases p on p.CustomerId = c.CustomerId\n",
            "    join items i on i.ItemId = p.ItemId\n",
            "where c.FirstName = 'Lisa'\n",
            "order by i.ItemId asc;\n",
            "\")\n"
          ],
          "name": "stderr"
        },
        {
          "output_type": "stream",
          "text": [
            "2020-12-15 18:11:35,053 INFO sqlalchemy.engine.base.Engine ()\n"
          ],
          "name": "stdout"
        },
        {
          "output_type": "stream",
          "text": [
            "INFO:sqlalchemy.engine.base.Engine:()\n"
          ],
          "name": "stderr"
        },
        {
          "output_type": "stream",
          "text": [
            "2020-12-15 18:11:35,057 INFO sqlalchemy.engine.base.Engine PRAGMA temp.table_info(\"\n",
            "select \n",
            "      i.ItemId item_id\n",
            "    , c.FirstName || ' ' || c.LastName customer\n",
            "    , i.Name item_name\n",
            "    , i.price item_price\n",
            "    , p.Date item_created_at\n",
            "from\n",
            "    customers c\n",
            "    join purchases p on p.CustomerId = c.CustomerId\n",
            "    join items i on i.ItemId = p.ItemId\n",
            "where c.FirstName = 'Lisa'\n",
            "order by i.ItemId asc;\n",
            "\")\n"
          ],
          "name": "stdout"
        },
        {
          "output_type": "stream",
          "text": [
            "INFO:sqlalchemy.engine.base.Engine:PRAGMA temp.table_info(\"\n",
            "select \n",
            "      i.ItemId item_id\n",
            "    , c.FirstName || ' ' || c.LastName customer\n",
            "    , i.Name item_name\n",
            "    , i.price item_price\n",
            "    , p.Date item_created_at\n",
            "from\n",
            "    customers c\n",
            "    join purchases p on p.CustomerId = c.CustomerId\n",
            "    join items i on i.ItemId = p.ItemId\n",
            "where c.FirstName = 'Lisa'\n",
            "order by i.ItemId asc;\n",
            "\")\n"
          ],
          "name": "stderr"
        },
        {
          "output_type": "stream",
          "text": [
            "2020-12-15 18:11:35,059 INFO sqlalchemy.engine.base.Engine ()\n"
          ],
          "name": "stdout"
        },
        {
          "output_type": "stream",
          "text": [
            "INFO:sqlalchemy.engine.base.Engine:()\n"
          ],
          "name": "stderr"
        },
        {
          "output_type": "stream",
          "text": [
            "2020-12-15 18:11:35,061 INFO sqlalchemy.engine.base.Engine \n",
            "select \n",
            "      i.ItemId item_id\n",
            "    , c.FirstName || ' ' || c.LastName customer\n",
            "    , i.Name item_name\n",
            "    , i.price item_price\n",
            "    , p.Date item_created_at\n",
            "from\n",
            "    customers c\n",
            "    join purchases p on p.CustomerId = c.CustomerId\n",
            "    join items i on i.ItemId = p.ItemId\n",
            "where c.FirstName = 'Lisa'\n",
            "order by i.ItemId asc;\n",
            "\n"
          ],
          "name": "stdout"
        },
        {
          "output_type": "stream",
          "text": [
            "INFO:sqlalchemy.engine.base.Engine:\n",
            "select \n",
            "      i.ItemId item_id\n",
            "    , c.FirstName || ' ' || c.LastName customer\n",
            "    , i.Name item_name\n",
            "    , i.price item_price\n",
            "    , p.Date item_created_at\n",
            "from\n",
            "    customers c\n",
            "    join purchases p on p.CustomerId = c.CustomerId\n",
            "    join items i on i.ItemId = p.ItemId\n",
            "where c.FirstName = 'Lisa'\n",
            "order by i.ItemId asc;\n",
            "\n"
          ],
          "name": "stderr"
        },
        {
          "output_type": "stream",
          "text": [
            "2020-12-15 18:11:35,063 INFO sqlalchemy.engine.base.Engine ()\n"
          ],
          "name": "stdout"
        },
        {
          "output_type": "stream",
          "text": [
            "INFO:sqlalchemy.engine.base.Engine:()\n"
          ],
          "name": "stderr"
        },
        {
          "output_type": "execute_result",
          "data": {
            "text/html": [
              "<div>\n",
              "<style scoped>\n",
              "    .dataframe tbody tr th:only-of-type {\n",
              "        vertical-align: middle;\n",
              "    }\n",
              "\n",
              "    .dataframe tbody tr th {\n",
              "        vertical-align: top;\n",
              "    }\n",
              "\n",
              "    .dataframe thead th {\n",
              "        text-align: right;\n",
              "    }\n",
              "</style>\n",
              "<table border=\"1\" class=\"dataframe\">\n",
              "  <thead>\n",
              "    <tr style=\"text-align: right;\">\n",
              "      <th></th>\n",
              "      <th>item_id</th>\n",
              "      <th>customer</th>\n",
              "      <th>item_name</th>\n",
              "      <th>item_price</th>\n",
              "      <th>item_created_at</th>\n",
              "    </tr>\n",
              "  </thead>\n",
              "  <tbody>\n",
              "    <tr>\n",
              "      <th>0</th>\n",
              "      <td>3</td>\n",
              "      <td>Lisa White</td>\n",
              "      <td>pizza</td>\n",
              "      <td>450</td>\n",
              "      <td>2020-11-05 00:00:00.000000</td>\n",
              "    </tr>\n",
              "    <tr>\n",
              "      <th>1</th>\n",
              "      <td>4</td>\n",
              "      <td>Lisa White</td>\n",
              "      <td>bread</td>\n",
              "      <td>50</td>\n",
              "      <td>2020-12-07 00:00:00.000000</td>\n",
              "    </tr>\n",
              "    <tr>\n",
              "      <th>2</th>\n",
              "      <td>5</td>\n",
              "      <td>Lisa White</td>\n",
              "      <td>ice cream</td>\n",
              "      <td>70</td>\n",
              "      <td>2020-12-09 00:00:00.000000</td>\n",
              "    </tr>\n",
              "  </tbody>\n",
              "</table>\n",
              "</div>"
            ],
            "text/plain": [
              "   item_id    customer  item_name  item_price             item_created_at\n",
              "0        3  Lisa White      pizza         450  2020-11-05 00:00:00.000000\n",
              "1        4  Lisa White      bread          50  2020-12-07 00:00:00.000000\n",
              "2        5  Lisa White  ice cream          70  2020-12-09 00:00:00.000000"
            ]
          },
          "metadata": {
            "tags": []
          },
          "execution_count": 149
        }
      ]
    },
    {
      "cell_type": "code",
      "metadata": {
        "id": "TKhmPCIBl6DU"
      },
      "source": [
        ""
      ],
      "execution_count": null,
      "outputs": []
    }
  ]
}